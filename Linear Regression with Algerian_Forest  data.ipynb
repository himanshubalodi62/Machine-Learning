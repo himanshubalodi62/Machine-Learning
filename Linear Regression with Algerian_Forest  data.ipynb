{
 "cells": [
  {
   "cell_type": "markdown",
   "id": "e996028f",
   "metadata": {},
   "source": [
    "Data Set Information:\n",
    "\n",
    "The dataset includes 244 instances that regroup a data of two regions of Algeria,namely the Bejaia region located in the northeast of Algeria and the Sidi Bel-abbes region located in the northwest of Algeria.\n",
    "\n",
    "122 instances for each region.\n",
    "\n",
    "The period from June 2012 to September 2012.\n",
    "The dataset includes 11 attribues and 1 output attribue (class)\n",
    "The 244 instances have been classified into â€˜fireâ€™ (138 classes) and â€˜not fireâ€™ (106 classes) classes."
   ]
  },
  {
   "cell_type": "markdown",
   "id": "1b25fbf4",
   "metadata": {},
   "source": [
    "Attribute Information:\n",
    "\n",
    "1. Date : (DD/MM/YYYY) Day, month ('june' to 'september'), year (2012)\n",
    "Weather data observations\n",
    "2. Temp : temperature noon (temperature max) in Celsius degrees: 22 to 42\n",
    "3. RH : Relative Humidity in %: 21 to 90\n",
    "4. Ws :Wind speed in km/h: 6 to 29\n",
    "5. Rain: total day in mm: 0 to 16.8\n",
    "FWI Components\n",
    "6. Fine Fuel Moisture Code (FFMC) index from the FWI system: 28.6 to 92.5\n",
    "7. Duff Moisture Code (DMC) index from the FWI system: 1.1 to 65.9\n",
    "8. Drought Code (DC) index from the FWI system: 7 to 220.4\n",
    "9. Initial Spread Index (ISI) index from the FWI system: 0 to 18.5\n",
    "10. Buildup Index (BUI) index from the FWI system: 1.1 to 68\n",
    "11. Fire Weather Index (FWI) Index: 0 to 31.1\n",
    "12. Classes: two classes, namely â€œFireâ€ and â€œnot Fireâ€"
   ]
  },
  {
   "cell_type": "markdown",
   "id": "16a0fb5b",
   "metadata": {},
   "source": [
    "## Import requrired libraries...."
   ]
  },
  {
   "cell_type": "code",
   "execution_count": 1,
   "id": "eb7a2581",
   "metadata": {},
   "outputs": [],
   "source": [
    "#import required libraries...\n",
    "import pandas as pd\n",
    "import numpy as np\n",
    "import matplotlib.pyplot as plt\n",
    "import seaborn as sns\n",
    "import warnings\n",
    "warnings.filterwarnings('ignore')\n",
    "%matplotlib inline"
   ]
  },
  {
   "cell_type": "markdown",
   "id": "e4a23674",
   "metadata": {},
   "source": [
    "# Loading the Algerian Forestdata"
   ]
  },
  {
   "cell_type": "code",
   "execution_count": 3,
   "id": "6f129ea9",
   "metadata": {},
   "outputs": [],
   "source": [
    "df = pd.read_csv(r'E:\\\\himanshu_2022\\\\Download\\\\Algerian_forest_fires_dataset_UPDATE.csv',header=1)"
   ]
  },
  {
   "cell_type": "code",
   "execution_count": 4,
   "id": "4e1c98ec",
   "metadata": {},
   "outputs": [
    {
     "data": {
      "text/html": [
       "<div>\n",
       "<style scoped>\n",
       "    .dataframe tbody tr th:only-of-type {\n",
       "        vertical-align: middle;\n",
       "    }\n",
       "\n",
       "    .dataframe tbody tr th {\n",
       "        vertical-align: top;\n",
       "    }\n",
       "\n",
       "    .dataframe thead th {\n",
       "        text-align: right;\n",
       "    }\n",
       "</style>\n",
       "<table border=\"1\" class=\"dataframe\">\n",
       "  <thead>\n",
       "    <tr style=\"text-align: right;\">\n",
       "      <th></th>\n",
       "      <th>day</th>\n",
       "      <th>month</th>\n",
       "      <th>year</th>\n",
       "      <th>Temperature</th>\n",
       "      <th>RH</th>\n",
       "      <th>Ws</th>\n",
       "      <th>Rain</th>\n",
       "      <th>FFMC</th>\n",
       "      <th>DMC</th>\n",
       "      <th>DC</th>\n",
       "      <th>ISI</th>\n",
       "      <th>BUI</th>\n",
       "      <th>FWI</th>\n",
       "      <th>Classes</th>\n",
       "    </tr>\n",
       "  </thead>\n",
       "  <tbody>\n",
       "    <tr>\n",
       "      <th>0</th>\n",
       "      <td>01</td>\n",
       "      <td>06</td>\n",
       "      <td>2012</td>\n",
       "      <td>29</td>\n",
       "      <td>57</td>\n",
       "      <td>18</td>\n",
       "      <td>0</td>\n",
       "      <td>65.7</td>\n",
       "      <td>3.4</td>\n",
       "      <td>7.6</td>\n",
       "      <td>1.3</td>\n",
       "      <td>3.4</td>\n",
       "      <td>0.5</td>\n",
       "      <td>not fire</td>\n",
       "    </tr>\n",
       "    <tr>\n",
       "      <th>1</th>\n",
       "      <td>02</td>\n",
       "      <td>06</td>\n",
       "      <td>2012</td>\n",
       "      <td>29</td>\n",
       "      <td>61</td>\n",
       "      <td>13</td>\n",
       "      <td>1.3</td>\n",
       "      <td>64.4</td>\n",
       "      <td>4.1</td>\n",
       "      <td>7.6</td>\n",
       "      <td>1</td>\n",
       "      <td>3.9</td>\n",
       "      <td>0.4</td>\n",
       "      <td>not fire</td>\n",
       "    </tr>\n",
       "    <tr>\n",
       "      <th>2</th>\n",
       "      <td>03</td>\n",
       "      <td>06</td>\n",
       "      <td>2012</td>\n",
       "      <td>26</td>\n",
       "      <td>82</td>\n",
       "      <td>22</td>\n",
       "      <td>13.1</td>\n",
       "      <td>47.1</td>\n",
       "      <td>2.5</td>\n",
       "      <td>7.1</td>\n",
       "      <td>0.3</td>\n",
       "      <td>2.7</td>\n",
       "      <td>0.1</td>\n",
       "      <td>not fire</td>\n",
       "    </tr>\n",
       "    <tr>\n",
       "      <th>3</th>\n",
       "      <td>04</td>\n",
       "      <td>06</td>\n",
       "      <td>2012</td>\n",
       "      <td>25</td>\n",
       "      <td>89</td>\n",
       "      <td>13</td>\n",
       "      <td>2.5</td>\n",
       "      <td>28.6</td>\n",
       "      <td>1.3</td>\n",
       "      <td>6.9</td>\n",
       "      <td>0</td>\n",
       "      <td>1.7</td>\n",
       "      <td>0</td>\n",
       "      <td>not fire</td>\n",
       "    </tr>\n",
       "    <tr>\n",
       "      <th>4</th>\n",
       "      <td>05</td>\n",
       "      <td>06</td>\n",
       "      <td>2012</td>\n",
       "      <td>27</td>\n",
       "      <td>77</td>\n",
       "      <td>16</td>\n",
       "      <td>0</td>\n",
       "      <td>64.8</td>\n",
       "      <td>3</td>\n",
       "      <td>14.2</td>\n",
       "      <td>1.2</td>\n",
       "      <td>3.9</td>\n",
       "      <td>0.5</td>\n",
       "      <td>not fire</td>\n",
       "    </tr>\n",
       "    <tr>\n",
       "      <th>...</th>\n",
       "      <td>...</td>\n",
       "      <td>...</td>\n",
       "      <td>...</td>\n",
       "      <td>...</td>\n",
       "      <td>...</td>\n",
       "      <td>...</td>\n",
       "      <td>...</td>\n",
       "      <td>...</td>\n",
       "      <td>...</td>\n",
       "      <td>...</td>\n",
       "      <td>...</td>\n",
       "      <td>...</td>\n",
       "      <td>...</td>\n",
       "      <td>...</td>\n",
       "    </tr>\n",
       "    <tr>\n",
       "      <th>241</th>\n",
       "      <td>26</td>\n",
       "      <td>09</td>\n",
       "      <td>2012</td>\n",
       "      <td>30</td>\n",
       "      <td>65</td>\n",
       "      <td>14</td>\n",
       "      <td>0</td>\n",
       "      <td>85.4</td>\n",
       "      <td>16</td>\n",
       "      <td>44.5</td>\n",
       "      <td>4.5</td>\n",
       "      <td>16.9</td>\n",
       "      <td>6.5</td>\n",
       "      <td>fire</td>\n",
       "    </tr>\n",
       "    <tr>\n",
       "      <th>242</th>\n",
       "      <td>27</td>\n",
       "      <td>09</td>\n",
       "      <td>2012</td>\n",
       "      <td>28</td>\n",
       "      <td>87</td>\n",
       "      <td>15</td>\n",
       "      <td>4.4</td>\n",
       "      <td>41.1</td>\n",
       "      <td>6.5</td>\n",
       "      <td>8</td>\n",
       "      <td>0.1</td>\n",
       "      <td>6.2</td>\n",
       "      <td>0</td>\n",
       "      <td>not fire</td>\n",
       "    </tr>\n",
       "    <tr>\n",
       "      <th>243</th>\n",
       "      <td>28</td>\n",
       "      <td>09</td>\n",
       "      <td>2012</td>\n",
       "      <td>27</td>\n",
       "      <td>87</td>\n",
       "      <td>29</td>\n",
       "      <td>0.5</td>\n",
       "      <td>45.9</td>\n",
       "      <td>3.5</td>\n",
       "      <td>7.9</td>\n",
       "      <td>0.4</td>\n",
       "      <td>3.4</td>\n",
       "      <td>0.2</td>\n",
       "      <td>not fire</td>\n",
       "    </tr>\n",
       "    <tr>\n",
       "      <th>244</th>\n",
       "      <td>29</td>\n",
       "      <td>09</td>\n",
       "      <td>2012</td>\n",
       "      <td>24</td>\n",
       "      <td>54</td>\n",
       "      <td>18</td>\n",
       "      <td>0.1</td>\n",
       "      <td>79.7</td>\n",
       "      <td>4.3</td>\n",
       "      <td>15.2</td>\n",
       "      <td>1.7</td>\n",
       "      <td>5.1</td>\n",
       "      <td>0.7</td>\n",
       "      <td>not fire</td>\n",
       "    </tr>\n",
       "    <tr>\n",
       "      <th>245</th>\n",
       "      <td>30</td>\n",
       "      <td>09</td>\n",
       "      <td>2012</td>\n",
       "      <td>24</td>\n",
       "      <td>64</td>\n",
       "      <td>15</td>\n",
       "      <td>0.2</td>\n",
       "      <td>67.3</td>\n",
       "      <td>3.8</td>\n",
       "      <td>16.5</td>\n",
       "      <td>1.2</td>\n",
       "      <td>4.8</td>\n",
       "      <td>0.5</td>\n",
       "      <td>not fire</td>\n",
       "    </tr>\n",
       "  </tbody>\n",
       "</table>\n",
       "<p>246 rows × 14 columns</p>\n",
       "</div>"
      ],
      "text/plain": [
       "    day month  year Temperature  RH  Ws Rain   FFMC  DMC    DC  ISI   BUI  \\\n",
       "0    01    06  2012          29  57  18     0  65.7  3.4   7.6  1.3   3.4   \n",
       "1    02    06  2012          29  61  13   1.3  64.4  4.1   7.6    1   3.9   \n",
       "2    03    06  2012          26  82  22  13.1  47.1  2.5   7.1  0.3   2.7   \n",
       "3    04    06  2012          25  89  13   2.5  28.6  1.3   6.9    0   1.7   \n",
       "4    05    06  2012          27  77  16     0  64.8    3  14.2  1.2   3.9   \n",
       "..   ..   ...   ...         ...  ..  ..   ...   ...  ...   ...  ...   ...   \n",
       "241  26    09  2012          30  65  14     0  85.4   16  44.5  4.5  16.9   \n",
       "242  27    09  2012          28  87  15   4.4  41.1  6.5     8  0.1   6.2   \n",
       "243  28    09  2012          27  87  29   0.5  45.9  3.5   7.9  0.4   3.4   \n",
       "244  29    09  2012          24  54  18   0.1  79.7  4.3  15.2  1.7   5.1   \n",
       "245  30    09  2012          24  64  15   0.2  67.3  3.8  16.5  1.2   4.8   \n",
       "\n",
       "     FWI     Classes    \n",
       "0    0.5   not fire     \n",
       "1    0.4   not fire     \n",
       "2    0.1   not fire     \n",
       "3      0   not fire     \n",
       "4    0.5   not fire     \n",
       "..   ...           ...  \n",
       "241  6.5       fire     \n",
       "242    0   not fire     \n",
       "243  0.2   not fire     \n",
       "244  0.7   not fire     \n",
       "245  0.5  not fire      \n",
       "\n",
       "[246 rows x 14 columns]"
      ]
     },
     "execution_count": 4,
     "metadata": {},
     "output_type": "execute_result"
    }
   ],
   "source": [
    "df"
   ]
  },
  {
   "cell_type": "code",
   "execution_count": 5,
   "id": "31c475e7",
   "metadata": {},
   "outputs": [],
   "source": [
    "# drop rows which have no information..\n",
    "df.drop([122,123],inplace=True)\n",
    "df.reset_index(inplace=True)\n",
    "df.drop('index',axis=1,inplace=True)"
   ]
  },
  {
   "cell_type": "code",
   "execution_count": 6,
   "id": "8972355d",
   "metadata": {},
   "outputs": [],
   "source": [
    "# creating region feature..\n",
    "df.loc[:122,'region'] = '0'\n",
    "df.loc[122:, 'region'] = '1'"
   ]
  },
  {
   "cell_type": "code",
   "execution_count": 7,
   "id": "4593eb7a",
   "metadata": {},
   "outputs": [
    {
     "name": "stdout",
     "output_type": "stream",
     "text": [
      "<class 'pandas.core.frame.DataFrame'>\n",
      "RangeIndex: 244 entries, 0 to 243\n",
      "Data columns (total 15 columns):\n",
      " #   Column       Non-Null Count  Dtype \n",
      "---  ------       --------------  ----- \n",
      " 0   day          244 non-null    object\n",
      " 1   month        244 non-null    object\n",
      " 2   year         244 non-null    object\n",
      " 3   Temperature  244 non-null    object\n",
      " 4    RH          244 non-null    object\n",
      " 5    Ws          244 non-null    object\n",
      " 6   Rain         244 non-null    object\n",
      " 7   FFMC         244 non-null    object\n",
      " 8   DMC          244 non-null    object\n",
      " 9   DC           244 non-null    object\n",
      " 10  ISI          244 non-null    object\n",
      " 11  BUI          244 non-null    object\n",
      " 12  FWI          244 non-null    object\n",
      " 13  Classes      243 non-null    object\n",
      " 14  region       244 non-null    object\n",
      "dtypes: object(15)\n",
      "memory usage: 28.7+ KB\n"
     ]
    }
   ],
   "source": [
    "#datatype & describe...\n",
    "df.info()"
   ]
  },
  {
   "cell_type": "code",
   "execution_count": 8,
   "id": "94982c3c",
   "metadata": {},
   "outputs": [
    {
     "data": {
      "text/html": [
       "<div>\n",
       "<style scoped>\n",
       "    .dataframe tbody tr th:only-of-type {\n",
       "        vertical-align: middle;\n",
       "    }\n",
       "\n",
       "    .dataframe tbody tr th {\n",
       "        vertical-align: top;\n",
       "    }\n",
       "\n",
       "    .dataframe thead th {\n",
       "        text-align: right;\n",
       "    }\n",
       "</style>\n",
       "<table border=\"1\" class=\"dataframe\">\n",
       "  <thead>\n",
       "    <tr style=\"text-align: right;\">\n",
       "      <th></th>\n",
       "      <th>day</th>\n",
       "      <th>month</th>\n",
       "      <th>year</th>\n",
       "      <th>Temperature</th>\n",
       "      <th>RH</th>\n",
       "      <th>Ws</th>\n",
       "      <th>Rain</th>\n",
       "      <th>FFMC</th>\n",
       "      <th>DMC</th>\n",
       "      <th>DC</th>\n",
       "      <th>ISI</th>\n",
       "      <th>BUI</th>\n",
       "      <th>FWI</th>\n",
       "      <th>Classes</th>\n",
       "      <th>region</th>\n",
       "    </tr>\n",
       "  </thead>\n",
       "  <tbody>\n",
       "    <tr>\n",
       "      <th>count</th>\n",
       "      <td>244</td>\n",
       "      <td>244</td>\n",
       "      <td>244</td>\n",
       "      <td>244</td>\n",
       "      <td>244</td>\n",
       "      <td>244</td>\n",
       "      <td>244</td>\n",
       "      <td>244</td>\n",
       "      <td>244</td>\n",
       "      <td>244</td>\n",
       "      <td>244</td>\n",
       "      <td>244</td>\n",
       "      <td>244</td>\n",
       "      <td>243</td>\n",
       "      <td>244</td>\n",
       "    </tr>\n",
       "    <tr>\n",
       "      <th>unique</th>\n",
       "      <td>31</td>\n",
       "      <td>4</td>\n",
       "      <td>1</td>\n",
       "      <td>19</td>\n",
       "      <td>62</td>\n",
       "      <td>18</td>\n",
       "      <td>39</td>\n",
       "      <td>173</td>\n",
       "      <td>166</td>\n",
       "      <td>198</td>\n",
       "      <td>106</td>\n",
       "      <td>174</td>\n",
       "      <td>127</td>\n",
       "      <td>8</td>\n",
       "      <td>2</td>\n",
       "    </tr>\n",
       "    <tr>\n",
       "      <th>top</th>\n",
       "      <td>01</td>\n",
       "      <td>07</td>\n",
       "      <td>2012</td>\n",
       "      <td>35</td>\n",
       "      <td>64</td>\n",
       "      <td>14</td>\n",
       "      <td>0</td>\n",
       "      <td>88.9</td>\n",
       "      <td>7.9</td>\n",
       "      <td>8</td>\n",
       "      <td>1.1</td>\n",
       "      <td>3</td>\n",
       "      <td>0.4</td>\n",
       "      <td>fire</td>\n",
       "      <td>0</td>\n",
       "    </tr>\n",
       "    <tr>\n",
       "      <th>freq</th>\n",
       "      <td>8</td>\n",
       "      <td>62</td>\n",
       "      <td>244</td>\n",
       "      <td>29</td>\n",
       "      <td>10</td>\n",
       "      <td>43</td>\n",
       "      <td>133</td>\n",
       "      <td>8</td>\n",
       "      <td>5</td>\n",
       "      <td>5</td>\n",
       "      <td>8</td>\n",
       "      <td>5</td>\n",
       "      <td>12</td>\n",
       "      <td>131</td>\n",
       "      <td>122</td>\n",
       "    </tr>\n",
       "  </tbody>\n",
       "</table>\n",
       "</div>"
      ],
      "text/plain": [
       "        day month  year Temperature   RH   Ws Rain   FFMC  DMC   DC  ISI  BUI  \\\n",
       "count   244   244   244         244  244  244   244   244  244  244  244  244   \n",
       "unique   31     4     1          19   62   18    39   173  166  198  106  174   \n",
       "top      01    07  2012          35   64   14     0  88.9  7.9    8  1.1    3   \n",
       "freq      8    62   244          29   10   43   133     8    5    5    8    5   \n",
       "\n",
       "        FWI Classes   region  \n",
       "count   244       243    244  \n",
       "unique  127         8      2  \n",
       "top     0.4   fire         0  \n",
       "freq     12       131    122  "
      ]
     },
     "execution_count": 8,
     "metadata": {},
     "output_type": "execute_result"
    }
   ],
   "source": [
    "df.describe()"
   ]
  },
  {
   "cell_type": "code",
   "execution_count": 9,
   "id": "35a82e43",
   "metadata": {},
   "outputs": [
    {
     "data": {
      "text/plain": [
       "Index(['day', 'month', 'year', 'Temperature', ' RH', ' Ws', 'Rain ', 'FFMC',\n",
       "       'DMC', 'DC', 'ISI', 'BUI', 'FWI', 'Classes  ', 'region'],\n",
       "      dtype='object')"
      ]
     },
     "execution_count": 9,
     "metadata": {},
     "output_type": "execute_result"
    }
   ],
   "source": [
    "df.columns"
   ]
  },
  {
   "cell_type": "code",
   "execution_count": 10,
   "id": "07705727",
   "metadata": {},
   "outputs": [
    {
     "data": {
      "text/plain": [
       "Index(['day', 'month', 'year', 'Temperature', 'RH', 'Ws', 'Rain', 'FFMC',\n",
       "       'DMC', 'DC', 'ISI', 'BUI', 'FWI', 'Classes', 'region'],\n",
       "      dtype='object')"
      ]
     },
     "execution_count": 10,
     "metadata": {},
     "output_type": "execute_result"
    }
   ],
   "source": [
    "#stripping the names of the column...\n",
    "df.columns = [i.strip() for i in df.columns]\n",
    "df.columns"
   ]
  },
  {
   "cell_type": "code",
   "execution_count": 11,
   "id": "33c1975c",
   "metadata": {},
   "outputs": [],
   "source": [
    "df=df.astype(str)"
   ]
  },
  {
   "cell_type": "code",
   "execution_count": 12,
   "id": "4f2bac47",
   "metadata": {},
   "outputs": [],
   "source": [
    "#somes values in colums also have space\n",
    "for feature in ['Rain', 'FFMC',\n",
    "       'DMC', 'DC', 'ISI', 'BUI', 'FWI', 'Classes']:\n",
    "    df[feature]= df[feature].str.replace(\" \",\"\")"
   ]
  },
  {
   "cell_type": "code",
   "execution_count": 13,
   "id": "e97376e4",
   "metadata": {},
   "outputs": [],
   "source": [
    "# Adding the region\n",
    "df['Region']= [1 if i <= 121 else 0 for i in df.index]"
   ]
  },
  {
   "cell_type": "code",
   "execution_count": 14,
   "id": "8132c882",
   "metadata": {},
   "outputs": [
    {
     "data": {
      "text/html": [
       "<div>\n",
       "<style scoped>\n",
       "    .dataframe tbody tr th:only-of-type {\n",
       "        vertical-align: middle;\n",
       "    }\n",
       "\n",
       "    .dataframe tbody tr th {\n",
       "        vertical-align: top;\n",
       "    }\n",
       "\n",
       "    .dataframe thead th {\n",
       "        text-align: right;\n",
       "    }\n",
       "</style>\n",
       "<table border=\"1\" class=\"dataframe\">\n",
       "  <thead>\n",
       "    <tr style=\"text-align: right;\">\n",
       "      <th></th>\n",
       "      <th>day</th>\n",
       "      <th>month</th>\n",
       "      <th>year</th>\n",
       "      <th>Temperature</th>\n",
       "      <th>RH</th>\n",
       "      <th>Ws</th>\n",
       "      <th>Rain</th>\n",
       "      <th>FFMC</th>\n",
       "      <th>DMC</th>\n",
       "      <th>DC</th>\n",
       "      <th>ISI</th>\n",
       "      <th>BUI</th>\n",
       "      <th>FWI</th>\n",
       "      <th>Classes</th>\n",
       "      <th>region</th>\n",
       "      <th>Region</th>\n",
       "    </tr>\n",
       "  </thead>\n",
       "  <tbody>\n",
       "    <tr>\n",
       "      <th>0</th>\n",
       "      <td>01</td>\n",
       "      <td>06</td>\n",
       "      <td>2012</td>\n",
       "      <td>29</td>\n",
       "      <td>57</td>\n",
       "      <td>18</td>\n",
       "      <td>0</td>\n",
       "      <td>65.7</td>\n",
       "      <td>3.4</td>\n",
       "      <td>7.6</td>\n",
       "      <td>1.3</td>\n",
       "      <td>3.4</td>\n",
       "      <td>0.5</td>\n",
       "      <td>notfire</td>\n",
       "      <td>0</td>\n",
       "      <td>1</td>\n",
       "    </tr>\n",
       "    <tr>\n",
       "      <th>1</th>\n",
       "      <td>02</td>\n",
       "      <td>06</td>\n",
       "      <td>2012</td>\n",
       "      <td>29</td>\n",
       "      <td>61</td>\n",
       "      <td>13</td>\n",
       "      <td>1.3</td>\n",
       "      <td>64.4</td>\n",
       "      <td>4.1</td>\n",
       "      <td>7.6</td>\n",
       "      <td>1</td>\n",
       "      <td>3.9</td>\n",
       "      <td>0.4</td>\n",
       "      <td>notfire</td>\n",
       "      <td>0</td>\n",
       "      <td>1</td>\n",
       "    </tr>\n",
       "    <tr>\n",
       "      <th>2</th>\n",
       "      <td>03</td>\n",
       "      <td>06</td>\n",
       "      <td>2012</td>\n",
       "      <td>26</td>\n",
       "      <td>82</td>\n",
       "      <td>22</td>\n",
       "      <td>13.1</td>\n",
       "      <td>47.1</td>\n",
       "      <td>2.5</td>\n",
       "      <td>7.1</td>\n",
       "      <td>0.3</td>\n",
       "      <td>2.7</td>\n",
       "      <td>0.1</td>\n",
       "      <td>notfire</td>\n",
       "      <td>0</td>\n",
       "      <td>1</td>\n",
       "    </tr>\n",
       "    <tr>\n",
       "      <th>3</th>\n",
       "      <td>04</td>\n",
       "      <td>06</td>\n",
       "      <td>2012</td>\n",
       "      <td>25</td>\n",
       "      <td>89</td>\n",
       "      <td>13</td>\n",
       "      <td>2.5</td>\n",
       "      <td>28.6</td>\n",
       "      <td>1.3</td>\n",
       "      <td>6.9</td>\n",
       "      <td>0</td>\n",
       "      <td>1.7</td>\n",
       "      <td>0</td>\n",
       "      <td>notfire</td>\n",
       "      <td>0</td>\n",
       "      <td>1</td>\n",
       "    </tr>\n",
       "    <tr>\n",
       "      <th>4</th>\n",
       "      <td>05</td>\n",
       "      <td>06</td>\n",
       "      <td>2012</td>\n",
       "      <td>27</td>\n",
       "      <td>77</td>\n",
       "      <td>16</td>\n",
       "      <td>0</td>\n",
       "      <td>64.8</td>\n",
       "      <td>3</td>\n",
       "      <td>14.2</td>\n",
       "      <td>1.2</td>\n",
       "      <td>3.9</td>\n",
       "      <td>0.5</td>\n",
       "      <td>notfire</td>\n",
       "      <td>0</td>\n",
       "      <td>1</td>\n",
       "    </tr>\n",
       "  </tbody>\n",
       "</table>\n",
       "</div>"
      ],
      "text/plain": [
       "  day month  year Temperature  RH  Ws  Rain  FFMC  DMC    DC  ISI  BUI  FWI  \\\n",
       "0  01    06  2012          29  57  18     0  65.7  3.4   7.6  1.3  3.4  0.5   \n",
       "1  02    06  2012          29  61  13   1.3  64.4  4.1   7.6    1  3.9  0.4   \n",
       "2  03    06  2012          26  82  22  13.1  47.1  2.5   7.1  0.3  2.7  0.1   \n",
       "3  04    06  2012          25  89  13   2.5  28.6  1.3   6.9    0  1.7    0   \n",
       "4  05    06  2012          27  77  16     0  64.8    3  14.2  1.2  3.9  0.5   \n",
       "\n",
       "   Classes region  Region  \n",
       "0  notfire      0       1  \n",
       "1  notfire      0       1  \n",
       "2  notfire      0       1  \n",
       "3  notfire      0       1  \n",
       "4  notfire      0       1  "
      ]
     },
     "execution_count": 14,
     "metadata": {},
     "output_type": "execute_result"
    }
   ],
   "source": [
    "df.head()"
   ]
  },
  {
   "cell_type": "code",
   "execution_count": 15,
   "id": "9aff4636",
   "metadata": {},
   "outputs": [],
   "source": [
    "# dropping the year columns it has same data throuhout the dataset\n",
    "df.drop(['year'], axis=1, inplace=True)"
   ]
  },
  {
   "cell_type": "code",
   "execution_count": 17,
   "id": "459a9524",
   "metadata": {},
   "outputs": [
    {
     "data": {
      "text/html": [
       "<div>\n",
       "<style scoped>\n",
       "    .dataframe tbody tr th:only-of-type {\n",
       "        vertical-align: middle;\n",
       "    }\n",
       "\n",
       "    .dataframe tbody tr th {\n",
       "        vertical-align: top;\n",
       "    }\n",
       "\n",
       "    .dataframe thead th {\n",
       "        text-align: right;\n",
       "    }\n",
       "</style>\n",
       "<table border=\"1\" class=\"dataframe\">\n",
       "  <thead>\n",
       "    <tr style=\"text-align: right;\">\n",
       "      <th></th>\n",
       "      <th>day</th>\n",
       "      <th>month</th>\n",
       "      <th>Temperature</th>\n",
       "      <th>RH</th>\n",
       "      <th>Ws</th>\n",
       "      <th>Rain</th>\n",
       "      <th>FFMC</th>\n",
       "      <th>DMC</th>\n",
       "      <th>DC</th>\n",
       "      <th>ISI</th>\n",
       "      <th>BUI</th>\n",
       "      <th>FWI</th>\n",
       "      <th>Classes</th>\n",
       "      <th>region</th>\n",
       "      <th>Region</th>\n",
       "    </tr>\n",
       "  </thead>\n",
       "  <tbody>\n",
       "    <tr>\n",
       "      <th>0</th>\n",
       "      <td>01</td>\n",
       "      <td>06</td>\n",
       "      <td>29</td>\n",
       "      <td>57</td>\n",
       "      <td>18</td>\n",
       "      <td>0</td>\n",
       "      <td>65.7</td>\n",
       "      <td>3.4</td>\n",
       "      <td>7.6</td>\n",
       "      <td>1.3</td>\n",
       "      <td>3.4</td>\n",
       "      <td>0.5</td>\n",
       "      <td>notfire</td>\n",
       "      <td>0</td>\n",
       "      <td>1</td>\n",
       "    </tr>\n",
       "    <tr>\n",
       "      <th>1</th>\n",
       "      <td>02</td>\n",
       "      <td>06</td>\n",
       "      <td>29</td>\n",
       "      <td>61</td>\n",
       "      <td>13</td>\n",
       "      <td>1.3</td>\n",
       "      <td>64.4</td>\n",
       "      <td>4.1</td>\n",
       "      <td>7.6</td>\n",
       "      <td>1</td>\n",
       "      <td>3.9</td>\n",
       "      <td>0.4</td>\n",
       "      <td>notfire</td>\n",
       "      <td>0</td>\n",
       "      <td>1</td>\n",
       "    </tr>\n",
       "    <tr>\n",
       "      <th>2</th>\n",
       "      <td>03</td>\n",
       "      <td>06</td>\n",
       "      <td>26</td>\n",
       "      <td>82</td>\n",
       "      <td>22</td>\n",
       "      <td>13.1</td>\n",
       "      <td>47.1</td>\n",
       "      <td>2.5</td>\n",
       "      <td>7.1</td>\n",
       "      <td>0.3</td>\n",
       "      <td>2.7</td>\n",
       "      <td>0.1</td>\n",
       "      <td>notfire</td>\n",
       "      <td>0</td>\n",
       "      <td>1</td>\n",
       "    </tr>\n",
       "    <tr>\n",
       "      <th>3</th>\n",
       "      <td>04</td>\n",
       "      <td>06</td>\n",
       "      <td>25</td>\n",
       "      <td>89</td>\n",
       "      <td>13</td>\n",
       "      <td>2.5</td>\n",
       "      <td>28.6</td>\n",
       "      <td>1.3</td>\n",
       "      <td>6.9</td>\n",
       "      <td>0</td>\n",
       "      <td>1.7</td>\n",
       "      <td>0</td>\n",
       "      <td>notfire</td>\n",
       "      <td>0</td>\n",
       "      <td>1</td>\n",
       "    </tr>\n",
       "    <tr>\n",
       "      <th>4</th>\n",
       "      <td>05</td>\n",
       "      <td>06</td>\n",
       "      <td>27</td>\n",
       "      <td>77</td>\n",
       "      <td>16</td>\n",
       "      <td>0</td>\n",
       "      <td>64.8</td>\n",
       "      <td>3</td>\n",
       "      <td>14.2</td>\n",
       "      <td>1.2</td>\n",
       "      <td>3.9</td>\n",
       "      <td>0.5</td>\n",
       "      <td>notfire</td>\n",
       "      <td>0</td>\n",
       "      <td>1</td>\n",
       "    </tr>\n",
       "    <tr>\n",
       "      <th>...</th>\n",
       "      <td>...</td>\n",
       "      <td>...</td>\n",
       "      <td>...</td>\n",
       "      <td>...</td>\n",
       "      <td>...</td>\n",
       "      <td>...</td>\n",
       "      <td>...</td>\n",
       "      <td>...</td>\n",
       "      <td>...</td>\n",
       "      <td>...</td>\n",
       "      <td>...</td>\n",
       "      <td>...</td>\n",
       "      <td>...</td>\n",
       "      <td>...</td>\n",
       "      <td>...</td>\n",
       "    </tr>\n",
       "    <tr>\n",
       "      <th>239</th>\n",
       "      <td>26</td>\n",
       "      <td>09</td>\n",
       "      <td>30</td>\n",
       "      <td>65</td>\n",
       "      <td>14</td>\n",
       "      <td>0</td>\n",
       "      <td>85.4</td>\n",
       "      <td>16</td>\n",
       "      <td>44.5</td>\n",
       "      <td>4.5</td>\n",
       "      <td>16.9</td>\n",
       "      <td>6.5</td>\n",
       "      <td>fire</td>\n",
       "      <td>1</td>\n",
       "      <td>0</td>\n",
       "    </tr>\n",
       "    <tr>\n",
       "      <th>240</th>\n",
       "      <td>27</td>\n",
       "      <td>09</td>\n",
       "      <td>28</td>\n",
       "      <td>87</td>\n",
       "      <td>15</td>\n",
       "      <td>4.4</td>\n",
       "      <td>41.1</td>\n",
       "      <td>6.5</td>\n",
       "      <td>8</td>\n",
       "      <td>0.1</td>\n",
       "      <td>6.2</td>\n",
       "      <td>0</td>\n",
       "      <td>notfire</td>\n",
       "      <td>1</td>\n",
       "      <td>0</td>\n",
       "    </tr>\n",
       "    <tr>\n",
       "      <th>241</th>\n",
       "      <td>28</td>\n",
       "      <td>09</td>\n",
       "      <td>27</td>\n",
       "      <td>87</td>\n",
       "      <td>29</td>\n",
       "      <td>0.5</td>\n",
       "      <td>45.9</td>\n",
       "      <td>3.5</td>\n",
       "      <td>7.9</td>\n",
       "      <td>0.4</td>\n",
       "      <td>3.4</td>\n",
       "      <td>0.2</td>\n",
       "      <td>notfire</td>\n",
       "      <td>1</td>\n",
       "      <td>0</td>\n",
       "    </tr>\n",
       "    <tr>\n",
       "      <th>242</th>\n",
       "      <td>29</td>\n",
       "      <td>09</td>\n",
       "      <td>24</td>\n",
       "      <td>54</td>\n",
       "      <td>18</td>\n",
       "      <td>0.1</td>\n",
       "      <td>79.7</td>\n",
       "      <td>4.3</td>\n",
       "      <td>15.2</td>\n",
       "      <td>1.7</td>\n",
       "      <td>5.1</td>\n",
       "      <td>0.7</td>\n",
       "      <td>notfire</td>\n",
       "      <td>1</td>\n",
       "      <td>0</td>\n",
       "    </tr>\n",
       "    <tr>\n",
       "      <th>243</th>\n",
       "      <td>30</td>\n",
       "      <td>09</td>\n",
       "      <td>24</td>\n",
       "      <td>64</td>\n",
       "      <td>15</td>\n",
       "      <td>0.2</td>\n",
       "      <td>67.3</td>\n",
       "      <td>3.8</td>\n",
       "      <td>16.5</td>\n",
       "      <td>1.2</td>\n",
       "      <td>4.8</td>\n",
       "      <td>0.5</td>\n",
       "      <td>notfire</td>\n",
       "      <td>1</td>\n",
       "      <td>0</td>\n",
       "    </tr>\n",
       "  </tbody>\n",
       "</table>\n",
       "<p>244 rows × 15 columns</p>\n",
       "</div>"
      ],
      "text/plain": [
       "    day month Temperature  RH  Ws  Rain  FFMC  DMC    DC  ISI   BUI  FWI  \\\n",
       "0    01    06          29  57  18     0  65.7  3.4   7.6  1.3   3.4  0.5   \n",
       "1    02    06          29  61  13   1.3  64.4  4.1   7.6    1   3.9  0.4   \n",
       "2    03    06          26  82  22  13.1  47.1  2.5   7.1  0.3   2.7  0.1   \n",
       "3    04    06          25  89  13   2.5  28.6  1.3   6.9    0   1.7    0   \n",
       "4    05    06          27  77  16     0  64.8    3  14.2  1.2   3.9  0.5   \n",
       "..   ..   ...         ...  ..  ..   ...   ...  ...   ...  ...   ...  ...   \n",
       "239  26    09          30  65  14     0  85.4   16  44.5  4.5  16.9  6.5   \n",
       "240  27    09          28  87  15   4.4  41.1  6.5     8  0.1   6.2    0   \n",
       "241  28    09          27  87  29   0.5  45.9  3.5   7.9  0.4   3.4  0.2   \n",
       "242  29    09          24  54  18   0.1  79.7  4.3  15.2  1.7   5.1  0.7   \n",
       "243  30    09          24  64  15   0.2  67.3  3.8  16.5  1.2   4.8  0.5   \n",
       "\n",
       "     Classes region  Region  \n",
       "0    notfire      0       1  \n",
       "1    notfire      0       1  \n",
       "2    notfire      0       1  \n",
       "3    notfire      0       1  \n",
       "4    notfire      0       1  \n",
       "..       ...    ...     ...  \n",
       "239     fire      1       0  \n",
       "240  notfire      1       0  \n",
       "241  notfire      1       0  \n",
       "242  notfire      1       0  \n",
       "243  notfire      1       0  \n",
       "\n",
       "[244 rows x 15 columns]"
      ]
     },
     "execution_count": 17,
     "metadata": {},
     "output_type": "execute_result"
    }
   ],
   "source": [
    "df"
   ]
  },
  {
   "cell_type": "markdown",
   "id": "c0249394",
   "metadata": {},
   "source": [
    "# finding missing values"
   ]
  },
  {
   "cell_type": "code",
   "execution_count": 18,
   "id": "e54f911b",
   "metadata": {},
   "outputs": [
    {
     "data": {
      "text/plain": [
       "day            0\n",
       "month          0\n",
       "Temperature    0\n",
       "RH             0\n",
       "Ws             0\n",
       "Rain           0\n",
       "FFMC           0\n",
       "DMC            0\n",
       "DC             0\n",
       "ISI            0\n",
       "BUI            0\n",
       "FWI            0\n",
       "Classes        0\n",
       "region         0\n",
       "Region         0\n",
       "dtype: int64"
      ]
     },
     "execution_count": 18,
     "metadata": {},
     "output_type": "execute_result"
    }
   ],
   "source": [
    "df.isnull().sum()"
   ]
  },
  {
   "cell_type": "code",
   "execution_count": 19,
   "id": "5081defd",
   "metadata": {},
   "outputs": [],
   "source": [
    "# here we have no null value."
   ]
  },
  {
   "cell_type": "code",
   "execution_count": 20,
   "id": "ecce6df0",
   "metadata": {},
   "outputs": [
    {
     "data": {
      "text/plain": [
       "array(['notfire', 'fire', 'nan'], dtype=object)"
      ]
     },
     "execution_count": 20,
     "metadata": {},
     "output_type": "execute_result"
    }
   ],
   "source": [
    "df['Classes'].unique()"
   ]
  },
  {
   "cell_type": "code",
   "execution_count": null,
   "id": "788c32c6",
   "metadata": {},
   "outputs": [],
   "source": [
    "#here if you we observe there are only 'fire' and 'not fire' values are present here we need to convert other thing to above\n",
    "#two values."
   ]
  },
  {
   "cell_type": "code",
   "execution_count": 22,
   "id": "38bc683a",
   "metadata": {},
   "outputs": [],
   "source": [
    "df['Classes'] = df['Classes'].map(lambda x: x.strip())"
   ]
  },
  {
   "cell_type": "code",
   "execution_count": 23,
   "id": "b4b9c564",
   "metadata": {},
   "outputs": [
    {
     "data": {
      "text/plain": [
       "fire       137\n",
       "notfire    106\n",
       "nan          1\n",
       "Name: Classes, dtype: int64"
      ]
     },
     "execution_count": 23,
     "metadata": {},
     "output_type": "execute_result"
    }
   ],
   "source": [
    "df['Classes'].value_counts()"
   ]
  },
  {
   "cell_type": "code",
   "execution_count": 24,
   "id": "fd7a2e7c",
   "metadata": {},
   "outputs": [
    {
     "data": {
      "text/html": [
       "<div>\n",
       "<style scoped>\n",
       "    .dataframe tbody tr th:only-of-type {\n",
       "        vertical-align: middle;\n",
       "    }\n",
       "\n",
       "    .dataframe tbody tr th {\n",
       "        vertical-align: top;\n",
       "    }\n",
       "\n",
       "    .dataframe thead th {\n",
       "        text-align: right;\n",
       "    }\n",
       "</style>\n",
       "<table border=\"1\" class=\"dataframe\">\n",
       "  <thead>\n",
       "    <tr style=\"text-align: right;\">\n",
       "      <th></th>\n",
       "      <th>day</th>\n",
       "      <th>month</th>\n",
       "      <th>Temperature</th>\n",
       "      <th>RH</th>\n",
       "      <th>Ws</th>\n",
       "      <th>Rain</th>\n",
       "      <th>FFMC</th>\n",
       "      <th>DMC</th>\n",
       "      <th>DC</th>\n",
       "      <th>ISI</th>\n",
       "      <th>BUI</th>\n",
       "      <th>FWI</th>\n",
       "      <th>Classes</th>\n",
       "      <th>region</th>\n",
       "      <th>Region</th>\n",
       "    </tr>\n",
       "  </thead>\n",
       "  <tbody>\n",
       "    <tr>\n",
       "      <th>0</th>\n",
       "      <td>01</td>\n",
       "      <td>06</td>\n",
       "      <td>29</td>\n",
       "      <td>57</td>\n",
       "      <td>18</td>\n",
       "      <td>0</td>\n",
       "      <td>65.7</td>\n",
       "      <td>3.4</td>\n",
       "      <td>7.6</td>\n",
       "      <td>1.3</td>\n",
       "      <td>3.4</td>\n",
       "      <td>0.5</td>\n",
       "      <td>notfire</td>\n",
       "      <td>0</td>\n",
       "      <td>1</td>\n",
       "    </tr>\n",
       "    <tr>\n",
       "      <th>1</th>\n",
       "      <td>02</td>\n",
       "      <td>06</td>\n",
       "      <td>29</td>\n",
       "      <td>61</td>\n",
       "      <td>13</td>\n",
       "      <td>1.3</td>\n",
       "      <td>64.4</td>\n",
       "      <td>4.1</td>\n",
       "      <td>7.6</td>\n",
       "      <td>1</td>\n",
       "      <td>3.9</td>\n",
       "      <td>0.4</td>\n",
       "      <td>notfire</td>\n",
       "      <td>0</td>\n",
       "      <td>1</td>\n",
       "    </tr>\n",
       "    <tr>\n",
       "      <th>2</th>\n",
       "      <td>03</td>\n",
       "      <td>06</td>\n",
       "      <td>26</td>\n",
       "      <td>82</td>\n",
       "      <td>22</td>\n",
       "      <td>13.1</td>\n",
       "      <td>47.1</td>\n",
       "      <td>2.5</td>\n",
       "      <td>7.1</td>\n",
       "      <td>0.3</td>\n",
       "      <td>2.7</td>\n",
       "      <td>0.1</td>\n",
       "      <td>notfire</td>\n",
       "      <td>0</td>\n",
       "      <td>1</td>\n",
       "    </tr>\n",
       "    <tr>\n",
       "      <th>3</th>\n",
       "      <td>04</td>\n",
       "      <td>06</td>\n",
       "      <td>25</td>\n",
       "      <td>89</td>\n",
       "      <td>13</td>\n",
       "      <td>2.5</td>\n",
       "      <td>28.6</td>\n",
       "      <td>1.3</td>\n",
       "      <td>6.9</td>\n",
       "      <td>0</td>\n",
       "      <td>1.7</td>\n",
       "      <td>0</td>\n",
       "      <td>notfire</td>\n",
       "      <td>0</td>\n",
       "      <td>1</td>\n",
       "    </tr>\n",
       "    <tr>\n",
       "      <th>4</th>\n",
       "      <td>05</td>\n",
       "      <td>06</td>\n",
       "      <td>27</td>\n",
       "      <td>77</td>\n",
       "      <td>16</td>\n",
       "      <td>0</td>\n",
       "      <td>64.8</td>\n",
       "      <td>3</td>\n",
       "      <td>14.2</td>\n",
       "      <td>1.2</td>\n",
       "      <td>3.9</td>\n",
       "      <td>0.5</td>\n",
       "      <td>notfire</td>\n",
       "      <td>0</td>\n",
       "      <td>1</td>\n",
       "    </tr>\n",
       "    <tr>\n",
       "      <th>...</th>\n",
       "      <td>...</td>\n",
       "      <td>...</td>\n",
       "      <td>...</td>\n",
       "      <td>...</td>\n",
       "      <td>...</td>\n",
       "      <td>...</td>\n",
       "      <td>...</td>\n",
       "      <td>...</td>\n",
       "      <td>...</td>\n",
       "      <td>...</td>\n",
       "      <td>...</td>\n",
       "      <td>...</td>\n",
       "      <td>...</td>\n",
       "      <td>...</td>\n",
       "      <td>...</td>\n",
       "    </tr>\n",
       "    <tr>\n",
       "      <th>239</th>\n",
       "      <td>26</td>\n",
       "      <td>09</td>\n",
       "      <td>30</td>\n",
       "      <td>65</td>\n",
       "      <td>14</td>\n",
       "      <td>0</td>\n",
       "      <td>85.4</td>\n",
       "      <td>16</td>\n",
       "      <td>44.5</td>\n",
       "      <td>4.5</td>\n",
       "      <td>16.9</td>\n",
       "      <td>6.5</td>\n",
       "      <td>fire</td>\n",
       "      <td>1</td>\n",
       "      <td>0</td>\n",
       "    </tr>\n",
       "    <tr>\n",
       "      <th>240</th>\n",
       "      <td>27</td>\n",
       "      <td>09</td>\n",
       "      <td>28</td>\n",
       "      <td>87</td>\n",
       "      <td>15</td>\n",
       "      <td>4.4</td>\n",
       "      <td>41.1</td>\n",
       "      <td>6.5</td>\n",
       "      <td>8</td>\n",
       "      <td>0.1</td>\n",
       "      <td>6.2</td>\n",
       "      <td>0</td>\n",
       "      <td>notfire</td>\n",
       "      <td>1</td>\n",
       "      <td>0</td>\n",
       "    </tr>\n",
       "    <tr>\n",
       "      <th>241</th>\n",
       "      <td>28</td>\n",
       "      <td>09</td>\n",
       "      <td>27</td>\n",
       "      <td>87</td>\n",
       "      <td>29</td>\n",
       "      <td>0.5</td>\n",
       "      <td>45.9</td>\n",
       "      <td>3.5</td>\n",
       "      <td>7.9</td>\n",
       "      <td>0.4</td>\n",
       "      <td>3.4</td>\n",
       "      <td>0.2</td>\n",
       "      <td>notfire</td>\n",
       "      <td>1</td>\n",
       "      <td>0</td>\n",
       "    </tr>\n",
       "    <tr>\n",
       "      <th>242</th>\n",
       "      <td>29</td>\n",
       "      <td>09</td>\n",
       "      <td>24</td>\n",
       "      <td>54</td>\n",
       "      <td>18</td>\n",
       "      <td>0.1</td>\n",
       "      <td>79.7</td>\n",
       "      <td>4.3</td>\n",
       "      <td>15.2</td>\n",
       "      <td>1.7</td>\n",
       "      <td>5.1</td>\n",
       "      <td>0.7</td>\n",
       "      <td>notfire</td>\n",
       "      <td>1</td>\n",
       "      <td>0</td>\n",
       "    </tr>\n",
       "    <tr>\n",
       "      <th>243</th>\n",
       "      <td>30</td>\n",
       "      <td>09</td>\n",
       "      <td>24</td>\n",
       "      <td>64</td>\n",
       "      <td>15</td>\n",
       "      <td>0.2</td>\n",
       "      <td>67.3</td>\n",
       "      <td>3.8</td>\n",
       "      <td>16.5</td>\n",
       "      <td>1.2</td>\n",
       "      <td>4.8</td>\n",
       "      <td>0.5</td>\n",
       "      <td>notfire</td>\n",
       "      <td>1</td>\n",
       "      <td>0</td>\n",
       "    </tr>\n",
       "  </tbody>\n",
       "</table>\n",
       "<p>244 rows × 15 columns</p>\n",
       "</div>"
      ],
      "text/plain": [
       "    day month Temperature  RH  Ws  Rain  FFMC  DMC    DC  ISI   BUI  FWI  \\\n",
       "0    01    06          29  57  18     0  65.7  3.4   7.6  1.3   3.4  0.5   \n",
       "1    02    06          29  61  13   1.3  64.4  4.1   7.6    1   3.9  0.4   \n",
       "2    03    06          26  82  22  13.1  47.1  2.5   7.1  0.3   2.7  0.1   \n",
       "3    04    06          25  89  13   2.5  28.6  1.3   6.9    0   1.7    0   \n",
       "4    05    06          27  77  16     0  64.8    3  14.2  1.2   3.9  0.5   \n",
       "..   ..   ...         ...  ..  ..   ...   ...  ...   ...  ...   ...  ...   \n",
       "239  26    09          30  65  14     0  85.4   16  44.5  4.5  16.9  6.5   \n",
       "240  27    09          28  87  15   4.4  41.1  6.5     8  0.1   6.2    0   \n",
       "241  28    09          27  87  29   0.5  45.9  3.5   7.9  0.4   3.4  0.2   \n",
       "242  29    09          24  54  18   0.1  79.7  4.3  15.2  1.7   5.1  0.7   \n",
       "243  30    09          24  64  15   0.2  67.3  3.8  16.5  1.2   4.8  0.5   \n",
       "\n",
       "     Classes region  Region  \n",
       "0    notfire      0       1  \n",
       "1    notfire      0       1  \n",
       "2    notfire      0       1  \n",
       "3    notfire      0       1  \n",
       "4    notfire      0       1  \n",
       "..       ...    ...     ...  \n",
       "239     fire      1       0  \n",
       "240  notfire      1       0  \n",
       "241  notfire      1       0  \n",
       "242  notfire      1       0  \n",
       "243  notfire      1       0  \n",
       "\n",
       "[244 rows x 15 columns]"
      ]
     },
     "execution_count": 24,
     "metadata": {},
     "output_type": "execute_result"
    }
   ],
   "source": [
    "df"
   ]
  },
  {
   "cell_type": "code",
   "execution_count": 28,
   "id": "2d8f7fc9",
   "metadata": {},
   "outputs": [
    {
     "name": "stdout",
     "output_type": "stream",
     "text": [
      "['day', 'month', 'RH', 'Ws', 'Rain', 'FFMC', 'DMC', 'DC', 'ISI', 'BUI', 'FWI', 'Region', 'Classes_not fire']\n",
      "['Temperature']\n"
     ]
    }
   ],
   "source": [
    "x_col = ['day', 'month','RH', 'Ws', 'Rain', 'FFMC',\n",
    "       'DMC', 'DC', 'ISI', 'BUI', 'FWI', 'Region', 'Classes_not fire']\n",
    "print(x_col)\n",
    "y_col = ['Temperature']\n",
    "print(y_col)"
   ]
  },
  {
   "cell_type": "markdown",
   "id": "b74f81dd",
   "metadata": {},
   "source": [
    "# EDA for Algerian Forest dataset"
   ]
  },
  {
   "cell_type": "code",
   "execution_count": null,
   "id": "fd4cd2b8",
   "metadata": {},
   "outputs": [],
   "source": [
    "# Numerical and Continuous features"
   ]
  },
  {
   "cell_type": "code",
   "execution_count": null,
   "id": "be1ed3d2",
   "metadata": {},
   "outputs": [],
   "source": [
    "# categorical features"
   ]
  },
  {
   "cell_type": "code",
   "execution_count": 32,
   "id": "caec96f4",
   "metadata": {},
   "outputs": [
    {
     "name": "stdout",
     "output_type": "stream",
     "text": [
      "DC     region\n",
      "10     0.0       2\n",
      "10.2   0.0       1\n",
      "10.4   1.0       1\n",
      "10.5   1.0       1\n",
      "100.7  0.0       1\n",
      "                ..\n",
      "94.7   0.0       1\n",
      "96.8   1.0       1\n",
      "97.3   1.0       1\n",
      "98.6   0.0       1\n",
      "99     1.0       1\n",
      "Name: region, Length: 213, dtype: int64\n",
      "FWI   region\n",
      "0     0.0       7\n",
      "      1.0       2\n",
      "0.1   0.0       7\n",
      "      1.0       2\n",
      "0.2   0.0       3\n",
      "               ..\n",
      "9.7   0.0       1\n",
      "9.8   1.0       1\n",
      "9.9   0.0       1\n",
      "      1.0       1\n",
      "fire  1.0       1\n",
      "Name: region, Length: 161, dtype: int64\n",
      "Classes  region\n",
      "fire     1.0       78\n",
      "         0.0       59\n",
      "nan      1.0        1\n",
      "notfire  0.0       63\n",
      "         1.0       43\n",
      "Name: region, dtype: int64\n"
     ]
    }
   ],
   "source": [
    "categorical_feature = [feature for feature in df.columns if df[feature].dtypes=='O' ]\n",
    "\n",
    "#catgorical features with group by operation with count...\n",
    "for feature in categorical_feature:\n",
    "    print(df.groupby(feature)['region'].value_counts())"
   ]
  },
  {
   "cell_type": "code",
   "execution_count": null,
   "id": "ed9c1418",
   "metadata": {},
   "outputs": [],
   "source": [
    "# Numerical features"
   ]
  },
  {
   "cell_type": "code",
   "execution_count": 33,
   "id": "f3192751",
   "metadata": {},
   "outputs": [
    {
     "name": "stdout",
     "output_type": "stream",
     "text": [
      "['day', 'month', 'Temperature', 'RH', 'Ws', 'Rain', 'FFMC', 'DMC', 'ISI', 'BUI', 'region', 'Region']\n"
     ]
    }
   ],
   "source": [
    "numerical_features=[feature for feature in df.columns if df[feature].dtypes!='O']\n",
    "print(numerical_features)"
   ]
  },
  {
   "cell_type": "code",
   "execution_count": 34,
   "id": "1d0c7a64",
   "metadata": {},
   "outputs": [
    {
     "data": {
      "text/plain": [
       "day             31\n",
       "month            4\n",
       "Temperature     19\n",
       "RH              62\n",
       "Ws              18\n",
       "Rain            39\n",
       "FFMC           173\n",
       "DMC            166\n",
       "ISI            106\n",
       "BUI            174\n",
       "region           2\n",
       "Region           2\n",
       "dtype: int64"
      ]
     },
     "execution_count": 34,
     "metadata": {},
     "output_type": "execute_result"
    }
   ],
   "source": [
    "df[numerical_features].nunique()"
   ]
  },
  {
   "cell_type": "code",
   "execution_count": null,
   "id": "a2aa5623",
   "metadata": {},
   "outputs": [],
   "source": [
    "# Seggregating discrete and continuous variable"
   ]
  },
  {
   "cell_type": "code",
   "execution_count": null,
   "id": "e852d382",
   "metadata": {},
   "outputs": [],
   "source": [
    "# Discrete numercal features"
   ]
  },
  {
   "cell_type": "code",
   "execution_count": 35,
   "id": "0b4e9cdb",
   "metadata": {},
   "outputs": [
    {
     "data": {
      "text/plain": [
       "['day', 'month', 'Temperature', 'Ws', 'region', 'Region']"
      ]
     },
     "execution_count": 35,
     "metadata": {},
     "output_type": "execute_result"
    }
   ],
   "source": [
    "# here is the assumption to consider if discrete values is less tha 35 that will be consider continuous features...\n",
    "descrete_features = [feature for feature in numerical_features if len(df[feature].unique())<35]\n",
    "descrete_features\n"
   ]
  },
  {
   "cell_type": "code",
   "execution_count": 43,
   "id": "817bc036",
   "metadata": {},
   "outputs": [
    {
     "data": {
      "image/png": "[encoded data removed]",
      "text/plain": [
       "<Figure size 432x288 with 1 Axes>"
      ]
     },
     "metadata": {
      "needs_background": "light"
     },
     "output_type": "display_data"
    },
    {
     "data": {
      "image/png": "[encoded data removed]",
      "text/plain": [
       "<Figure size 432x288 with 1 Axes>"
      ]
     },
     "metadata": {
      "needs_background": "light"
     },
     "output_type": "display_data"
    },
    {
     "data": {
      "image/png": "[encoded data removed]",
      "text/plain": [
       "<Figure size 432x288 with 1 Axes>"
      ]
     },
     "metadata": {
      "needs_background": "light"
     },
     "output_type": "display_data"
    },
    {
     "data": {
      "image/png": "[encoded data removed]",
      "text/plain": [
       "<Figure size 432x288 with 1 Axes>"
      ]
     },
     "metadata": {
      "needs_background": "light"
     },
     "output_type": "display_data"
    },
    {
     "data": {
      "image/png": "[encoded data removed]",
      "text/plain": [
       "<Figure size 432x288 with 1 Axes>"
      ]
     },
     "metadata": {
      "needs_background": "light"
     },
     "output_type": "display_data"
    },
    {
     "data": {
      "image/png": "[encoded data removed]",
      "text/plain": [
       "<Figure size 432x288 with 1 Axes>"
      ]
     },
     "metadata": {
      "needs_background": "light"
     },
     "output_type": "display_data"
    }
   ],
   "source": [
    "for features in descrete_features:\n",
    "    sns.barplot(data = df, x=features, y=\"Temperature\" , hue='Classes')\n",
    "    plt.show()"
   ]
  },
  {
   "cell_type": "code",
   "execution_count": 44,
   "id": "1268d4eb",
   "metadata": {},
   "outputs": [
    {
     "name": "stdout",
     "output_type": "stream",
     "text": [
      "['RH', 'Rain', 'FFMC', 'DMC', 'ISI', 'BUI']\n"
     ]
    }
   ],
   "source": [
    "continuous_features=[feature for feature in numerical_features if feature not in descrete_features]\n",
    "print(continuous_features)"
   ]
  },
  {
   "cell_type": "code",
   "execution_count": 56,
   "id": "736d19aa",
   "metadata": {},
   "outputs": [
    {
     "data": {
      "text/html": [
       "<div>\n",
       "<style scoped>\n",
       "    .dataframe tbody tr th:only-of-type {\n",
       "        vertical-align: middle;\n",
       "    }\n",
       "\n",
       "    .dataframe tbody tr th {\n",
       "        vertical-align: top;\n",
       "    }\n",
       "\n",
       "    .dataframe thead th {\n",
       "        text-align: right;\n",
       "    }\n",
       "</style>\n",
       "<table border=\"1\" class=\"dataframe\">\n",
       "  <thead>\n",
       "    <tr style=\"text-align: right;\">\n",
       "      <th></th>\n",
       "      <th>day</th>\n",
       "      <th>month</th>\n",
       "      <th>Temperature</th>\n",
       "      <th>RH</th>\n",
       "      <th>Ws</th>\n",
       "      <th>Rain</th>\n",
       "      <th>FFMC</th>\n",
       "      <th>DMC</th>\n",
       "      <th>ISI</th>\n",
       "      <th>BUI</th>\n",
       "      <th>region</th>\n",
       "      <th>Region</th>\n",
       "    </tr>\n",
       "  </thead>\n",
       "  <tbody>\n",
       "    <tr>\n",
       "      <th>day</th>\n",
       "      <td>1.000000e+00</td>\n",
       "      <td>2.232788e-17</td>\n",
       "      <td>0.095772</td>\n",
       "      <td>-0.074209</td>\n",
       "      <td>0.047001</td>\n",
       "      <td>-0.112265</td>\n",
       "      <td>0.224032</td>\n",
       "      <td>0.491571</td>\n",
       "      <td>0.177727</td>\n",
       "      <td>0.517229</td>\n",
       "      <td>4.662229e-16</td>\n",
       "      <td>-4.662229e-16</td>\n",
       "    </tr>\n",
       "    <tr>\n",
       "      <th>month</th>\n",
       "      <td>2.232788e-17</td>\n",
       "      <td>1.000000e+00</td>\n",
       "      <td>-0.059017</td>\n",
       "      <td>-0.037884</td>\n",
       "      <td>-0.041447</td>\n",
       "      <td>0.035322</td>\n",
       "      <td>0.015577</td>\n",
       "      <td>0.068178</td>\n",
       "      <td>0.061680</td>\n",
       "      <td>0.085822</td>\n",
       "      <td>-9.586232e-17</td>\n",
       "      <td>6.718556e-17</td>\n",
       "    </tr>\n",
       "    <tr>\n",
       "      <th>Temperature</th>\n",
       "      <td>9.577222e-02</td>\n",
       "      <td>-5.901677e-02</td>\n",
       "      <td>1.000000</td>\n",
       "      <td>-0.654443</td>\n",
       "      <td>-0.278132</td>\n",
       "      <td>-0.326786</td>\n",
       "      <td>0.677491</td>\n",
       "      <td>0.483105</td>\n",
       "      <td>0.607551</td>\n",
       "      <td>0.455504</td>\n",
       "      <td>2.734961e-01</td>\n",
       "      <td>-2.734961e-01</td>\n",
       "    </tr>\n",
       "    <tr>\n",
       "      <th>RH</th>\n",
       "      <td>-7.420934e-02</td>\n",
       "      <td>-3.788419e-02</td>\n",
       "      <td>-0.654443</td>\n",
       "      <td>1.000000</td>\n",
       "      <td>0.236084</td>\n",
       "      <td>0.222968</td>\n",
       "      <td>-0.645658</td>\n",
       "      <td>-0.405133</td>\n",
       "      <td>-0.690637</td>\n",
       "      <td>-0.348587</td>\n",
       "      <td>-4.064239e-01</td>\n",
       "      <td>4.064239e-01</td>\n",
       "    </tr>\n",
       "    <tr>\n",
       "      <th>Ws</th>\n",
       "      <td>4.700086e-02</td>\n",
       "      <td>-4.144673e-02</td>\n",
       "      <td>-0.278132</td>\n",
       "      <td>0.236084</td>\n",
       "      <td>1.000000</td>\n",
       "      <td>0.170169</td>\n",
       "      <td>-0.163255</td>\n",
       "      <td>-0.001246</td>\n",
       "      <td>0.015248</td>\n",
       "      <td>0.029756</td>\n",
       "      <td>-1.768290e-01</td>\n",
       "      <td>1.768290e-01</td>\n",
       "    </tr>\n",
       "    <tr>\n",
       "      <th>Rain</th>\n",
       "      <td>-1.122654e-01</td>\n",
       "      <td>3.532207e-02</td>\n",
       "      <td>-0.326786</td>\n",
       "      <td>0.222968</td>\n",
       "      <td>0.170169</td>\n",
       "      <td>1.000000</td>\n",
       "      <td>-0.544045</td>\n",
       "      <td>-0.288548</td>\n",
       "      <td>-0.347105</td>\n",
       "      <td>-0.299171</td>\n",
       "      <td>-4.108006e-02</td>\n",
       "      <td>4.108006e-02</td>\n",
       "    </tr>\n",
       "    <tr>\n",
       "      <th>FFMC</th>\n",
       "      <td>2.240321e-01</td>\n",
       "      <td>1.557668e-02</td>\n",
       "      <td>0.677491</td>\n",
       "      <td>-0.645658</td>\n",
       "      <td>-0.163255</td>\n",
       "      <td>-0.544045</td>\n",
       "      <td>1.000000</td>\n",
       "      <td>0.602391</td>\n",
       "      <td>0.739730</td>\n",
       "      <td>0.589652</td>\n",
       "      <td>2.246798e-01</td>\n",
       "      <td>-2.246798e-01</td>\n",
       "    </tr>\n",
       "    <tr>\n",
       "      <th>DMC</th>\n",
       "      <td>4.915710e-01</td>\n",
       "      <td>6.817778e-02</td>\n",
       "      <td>0.483105</td>\n",
       "      <td>-0.405133</td>\n",
       "      <td>-0.001246</td>\n",
       "      <td>-0.288548</td>\n",
       "      <td>0.602391</td>\n",
       "      <td>1.000000</td>\n",
       "      <td>0.674499</td>\n",
       "      <td>0.982073</td>\n",
       "      <td>1.910937e-01</td>\n",
       "      <td>-1.910937e-01</td>\n",
       "    </tr>\n",
       "    <tr>\n",
       "      <th>ISI</th>\n",
       "      <td>1.777266e-01</td>\n",
       "      <td>6.168011e-02</td>\n",
       "      <td>0.607551</td>\n",
       "      <td>-0.690637</td>\n",
       "      <td>0.015248</td>\n",
       "      <td>-0.347105</td>\n",
       "      <td>0.739730</td>\n",
       "      <td>0.674499</td>\n",
       "      <td>1.000000</td>\n",
       "      <td>0.635891</td>\n",
       "      <td>2.684206e-01</td>\n",
       "      <td>-2.684206e-01</td>\n",
       "    </tr>\n",
       "    <tr>\n",
       "      <th>BUI</th>\n",
       "      <td>5.172292e-01</td>\n",
       "      <td>8.582162e-02</td>\n",
       "      <td>0.455504</td>\n",
       "      <td>-0.348587</td>\n",
       "      <td>0.029756</td>\n",
       "      <td>-0.299171</td>\n",
       "      <td>0.589652</td>\n",
       "      <td>0.982073</td>\n",
       "      <td>0.635891</td>\n",
       "      <td>1.000000</td>\n",
       "      <td>8.736964e-02</td>\n",
       "      <td>-8.736964e-02</td>\n",
       "    </tr>\n",
       "    <tr>\n",
       "      <th>region</th>\n",
       "      <td>4.662229e-16</td>\n",
       "      <td>-9.586232e-17</td>\n",
       "      <td>0.273496</td>\n",
       "      <td>-0.406424</td>\n",
       "      <td>-0.176829</td>\n",
       "      <td>-0.041080</td>\n",
       "      <td>0.224680</td>\n",
       "      <td>0.191094</td>\n",
       "      <td>0.268421</td>\n",
       "      <td>0.087370</td>\n",
       "      <td>1.000000e+00</td>\n",
       "      <td>-1.000000e+00</td>\n",
       "    </tr>\n",
       "    <tr>\n",
       "      <th>Region</th>\n",
       "      <td>-4.662229e-16</td>\n",
       "      <td>6.718556e-17</td>\n",
       "      <td>-0.273496</td>\n",
       "      <td>0.406424</td>\n",
       "      <td>0.176829</td>\n",
       "      <td>0.041080</td>\n",
       "      <td>-0.224680</td>\n",
       "      <td>-0.191094</td>\n",
       "      <td>-0.268421</td>\n",
       "      <td>-0.087370</td>\n",
       "      <td>-1.000000e+00</td>\n",
       "      <td>1.000000e+00</td>\n",
       "    </tr>\n",
       "  </tbody>\n",
       "</table>\n",
       "</div>"
      ],
      "text/plain": [
       "                      day         month  Temperature        RH        Ws  \\\n",
       "day          1.000000e+00  2.232788e-17     0.095772 -0.074209  0.047001   \n",
       "month        2.232788e-17  1.000000e+00    -0.059017 -0.037884 -0.041447   \n",
       "Temperature  9.577222e-02 -5.901677e-02     1.000000 -0.654443 -0.278132   \n",
       "RH          -7.420934e-02 -3.788419e-02    -0.654443  1.000000  0.236084   \n",
       "Ws           4.700086e-02 -4.144673e-02    -0.278132  0.236084  1.000000   \n",
       "Rain        -1.122654e-01  3.532207e-02    -0.326786  0.222968  0.170169   \n",
       "FFMC         2.240321e-01  1.557668e-02     0.677491 -0.645658 -0.163255   \n",
       "DMC          4.915710e-01  6.817778e-02     0.483105 -0.405133 -0.001246   \n",
       "ISI          1.777266e-01  6.168011e-02     0.607551 -0.690637  0.015248   \n",
       "BUI          5.172292e-01  8.582162e-02     0.455504 -0.348587  0.029756   \n",
       "region       4.662229e-16 -9.586232e-17     0.273496 -0.406424 -0.176829   \n",
       "Region      -4.662229e-16  6.718556e-17    -0.273496  0.406424  0.176829   \n",
       "\n",
       "                 Rain      FFMC       DMC       ISI       BUI        region  \\\n",
       "day         -0.112265  0.224032  0.491571  0.177727  0.517229  4.662229e-16   \n",
       "month        0.035322  0.015577  0.068178  0.061680  0.085822 -9.586232e-17   \n",
       "Temperature -0.326786  0.677491  0.483105  0.607551  0.455504  2.734961e-01   \n",
       "RH           0.222968 -0.645658 -0.405133 -0.690637 -0.348587 -4.064239e-01   \n",
       "Ws           0.170169 -0.163255 -0.001246  0.015248  0.029756 -1.768290e-01   \n",
       "Rain         1.000000 -0.544045 -0.288548 -0.347105 -0.299171 -4.108006e-02   \n",
       "FFMC        -0.544045  1.000000  0.602391  0.739730  0.589652  2.246798e-01   \n",
       "DMC         -0.288548  0.602391  1.000000  0.674499  0.982073  1.910937e-01   \n",
       "ISI         -0.347105  0.739730  0.674499  1.000000  0.635891  2.684206e-01   \n",
       "BUI         -0.299171  0.589652  0.982073  0.635891  1.000000  8.736964e-02   \n",
       "region      -0.041080  0.224680  0.191094  0.268421  0.087370  1.000000e+00   \n",
       "Region       0.041080 -0.224680 -0.191094 -0.268421 -0.087370 -1.000000e+00   \n",
       "\n",
       "                   Region  \n",
       "day         -4.662229e-16  \n",
       "month        6.718556e-17  \n",
       "Temperature -2.734961e-01  \n",
       "RH           4.064239e-01  \n",
       "Ws           1.768290e-01  \n",
       "Rain         4.108006e-02  \n",
       "FFMC        -2.246798e-01  \n",
       "DMC         -1.910937e-01  \n",
       "ISI         -2.684206e-01  \n",
       "BUI         -8.736964e-02  \n",
       "region      -1.000000e+00  \n",
       "Region       1.000000e+00  "
      ]
     },
     "execution_count": 56,
     "metadata": {},
     "output_type": "execute_result"
    }
   ],
   "source": [
    "df.corr()"
   ]
  },
  {
   "cell_type": "code",
   "execution_count": 57,
   "id": "af31f82a",
   "metadata": {},
   "outputs": [
    {
     "data": {
      "text/html": [
       "<div>\n",
       "<style scoped>\n",
       "    .dataframe tbody tr th:only-of-type {\n",
       "        vertical-align: middle;\n",
       "    }\n",
       "\n",
       "    .dataframe tbody tr th {\n",
       "        vertical-align: top;\n",
       "    }\n",
       "\n",
       "    .dataframe thead th {\n",
       "        text-align: right;\n",
       "    }\n",
       "</style>\n",
       "<table border=\"1\" class=\"dataframe\">\n",
       "  <thead>\n",
       "    <tr style=\"text-align: right;\">\n",
       "      <th></th>\n",
       "      <th>day</th>\n",
       "      <th>month</th>\n",
       "      <th>Temperature</th>\n",
       "      <th>RH</th>\n",
       "      <th>Ws</th>\n",
       "      <th>Rain</th>\n",
       "      <th>FFMC</th>\n",
       "      <th>DMC</th>\n",
       "      <th>ISI</th>\n",
       "      <th>BUI</th>\n",
       "      <th>region</th>\n",
       "      <th>Region</th>\n",
       "    </tr>\n",
       "  </thead>\n",
       "  <tbody>\n",
       "    <tr>\n",
       "      <th>count</th>\n",
       "      <td>244.000000</td>\n",
       "      <td>244.000000</td>\n",
       "      <td>244.000000</td>\n",
       "      <td>244.000000</td>\n",
       "      <td>244.000000</td>\n",
       "      <td>244.000000</td>\n",
       "      <td>244.000000</td>\n",
       "      <td>244.000000</td>\n",
       "      <td>244.000000</td>\n",
       "      <td>244.000000</td>\n",
       "      <td>244.000000</td>\n",
       "      <td>244.000000</td>\n",
       "    </tr>\n",
       "    <tr>\n",
       "      <th>mean</th>\n",
       "      <td>15.754098</td>\n",
       "      <td>7.500000</td>\n",
       "      <td>32.172131</td>\n",
       "      <td>61.938525</td>\n",
       "      <td>15.504098</td>\n",
       "      <td>0.760656</td>\n",
       "      <td>77.887705</td>\n",
       "      <td>14.673361</td>\n",
       "      <td>4.774180</td>\n",
       "      <td>16.664754</td>\n",
       "      <td>0.500000</td>\n",
       "      <td>0.500000</td>\n",
       "    </tr>\n",
       "    <tr>\n",
       "      <th>std</th>\n",
       "      <td>8.825059</td>\n",
       "      <td>1.112961</td>\n",
       "      <td>3.633843</td>\n",
       "      <td>14.884200</td>\n",
       "      <td>2.810178</td>\n",
       "      <td>1.999406</td>\n",
       "      <td>14.337571</td>\n",
       "      <td>12.368039</td>\n",
       "      <td>4.175318</td>\n",
       "      <td>14.204824</td>\n",
       "      <td>0.501028</td>\n",
       "      <td>0.501028</td>\n",
       "    </tr>\n",
       "    <tr>\n",
       "      <th>min</th>\n",
       "      <td>1.000000</td>\n",
       "      <td>6.000000</td>\n",
       "      <td>22.000000</td>\n",
       "      <td>21.000000</td>\n",
       "      <td>6.000000</td>\n",
       "      <td>0.000000</td>\n",
       "      <td>28.600000</td>\n",
       "      <td>0.700000</td>\n",
       "      <td>0.000000</td>\n",
       "      <td>1.100000</td>\n",
       "      <td>0.000000</td>\n",
       "      <td>0.000000</td>\n",
       "    </tr>\n",
       "    <tr>\n",
       "      <th>25%</th>\n",
       "      <td>8.000000</td>\n",
       "      <td>7.000000</td>\n",
       "      <td>30.000000</td>\n",
       "      <td>52.000000</td>\n",
       "      <td>14.000000</td>\n",
       "      <td>0.000000</td>\n",
       "      <td>72.075000</td>\n",
       "      <td>5.800000</td>\n",
       "      <td>1.400000</td>\n",
       "      <td>6.000000</td>\n",
       "      <td>0.000000</td>\n",
       "      <td>0.000000</td>\n",
       "    </tr>\n",
       "    <tr>\n",
       "      <th>50%</th>\n",
       "      <td>16.000000</td>\n",
       "      <td>7.500000</td>\n",
       "      <td>32.000000</td>\n",
       "      <td>63.000000</td>\n",
       "      <td>15.000000</td>\n",
       "      <td>0.000000</td>\n",
       "      <td>83.500000</td>\n",
       "      <td>11.300000</td>\n",
       "      <td>3.500000</td>\n",
       "      <td>12.250000</td>\n",
       "      <td>0.500000</td>\n",
       "      <td>0.500000</td>\n",
       "    </tr>\n",
       "    <tr>\n",
       "      <th>75%</th>\n",
       "      <td>23.000000</td>\n",
       "      <td>8.000000</td>\n",
       "      <td>35.000000</td>\n",
       "      <td>73.250000</td>\n",
       "      <td>17.000000</td>\n",
       "      <td>0.500000</td>\n",
       "      <td>88.300000</td>\n",
       "      <td>20.750000</td>\n",
       "      <td>7.300000</td>\n",
       "      <td>22.525000</td>\n",
       "      <td>1.000000</td>\n",
       "      <td>1.000000</td>\n",
       "    </tr>\n",
       "    <tr>\n",
       "      <th>max</th>\n",
       "      <td>31.000000</td>\n",
       "      <td>9.000000</td>\n",
       "      <td>42.000000</td>\n",
       "      <td>90.000000</td>\n",
       "      <td>29.000000</td>\n",
       "      <td>16.800000</td>\n",
       "      <td>96.000000</td>\n",
       "      <td>65.900000</td>\n",
       "      <td>19.000000</td>\n",
       "      <td>68.000000</td>\n",
       "      <td>1.000000</td>\n",
       "      <td>1.000000</td>\n",
       "    </tr>\n",
       "  </tbody>\n",
       "</table>\n",
       "</div>"
      ],
      "text/plain": [
       "              day       month  Temperature          RH          Ws  \\\n",
       "count  244.000000  244.000000   244.000000  244.000000  244.000000   \n",
       "mean    15.754098    7.500000    32.172131   61.938525   15.504098   \n",
       "std      8.825059    1.112961     3.633843   14.884200    2.810178   \n",
       "min      1.000000    6.000000    22.000000   21.000000    6.000000   \n",
       "25%      8.000000    7.000000    30.000000   52.000000   14.000000   \n",
       "50%     16.000000    7.500000    32.000000   63.000000   15.000000   \n",
       "75%     23.000000    8.000000    35.000000   73.250000   17.000000   \n",
       "max     31.000000    9.000000    42.000000   90.000000   29.000000   \n",
       "\n",
       "             Rain        FFMC         DMC         ISI         BUI      region  \\\n",
       "count  244.000000  244.000000  244.000000  244.000000  244.000000  244.000000   \n",
       "mean     0.760656   77.887705   14.673361    4.774180   16.664754    0.500000   \n",
       "std      1.999406   14.337571   12.368039    4.175318   14.204824    0.501028   \n",
       "min      0.000000   28.600000    0.700000    0.000000    1.100000    0.000000   \n",
       "25%      0.000000   72.075000    5.800000    1.400000    6.000000    0.000000   \n",
       "50%      0.000000   83.500000   11.300000    3.500000   12.250000    0.500000   \n",
       "75%      0.500000   88.300000   20.750000    7.300000   22.525000    1.000000   \n",
       "max     16.800000   96.000000   65.900000   19.000000   68.000000    1.000000   \n",
       "\n",
       "           Region  \n",
       "count  244.000000  \n",
       "mean     0.500000  \n",
       "std      0.501028  \n",
       "min      0.000000  \n",
       "25%      0.000000  \n",
       "50%      0.500000  \n",
       "75%      1.000000  \n",
       "max      1.000000  "
      ]
     },
     "execution_count": 57,
     "metadata": {},
     "output_type": "execute_result"
    }
   ],
   "source": [
    "df.describe()"
   ]
  },
  {
   "cell_type": "code",
   "execution_count": 59,
   "id": "ace5a207",
   "metadata": {},
   "outputs": [
    {
     "data": {
      "image/png": "[encoded data removed]",
      "text/plain": [
       "<Figure size 1080x1080 with 11 Axes>"
      ]
     },
     "metadata": {
      "needs_background": "light"
     },
     "output_type": "display_data"
    }
   ],
   "source": [
    "plt.figure(figsize=(15, 15))\n",
    "plt.suptitle('Univariate Analysis of Numerical Features', fontsize=20, fontweight='bold', alpha=0.8, y=1.)\n",
    "\n",
    "for i in range(0, len(numerical_features)-1):\n",
    "    plt.subplot(5, 3, i+1)\n",
    "    sns.kdeplot(x=df[numerical_features[i]],shade=True, color='b')\n",
    "    plt.xlabel(x_col[i])\n",
    "    plt.tight_layout()"
   ]
  },
  {
   "cell_type": "code",
   "execution_count": 60,
   "id": "632bb034",
   "metadata": {},
   "outputs": [
    {
     "data": {
      "text/plain": [
       "<Figure size 1080x1080 with 0 Axes>"
      ]
     },
     "metadata": {},
     "output_type": "display_data"
    },
    {
     "data": {
      "image/png": "[encoded data removed]",
      "text/plain": [
       "<Figure size 360x360 with 1 Axes>"
      ]
     },
     "metadata": {
      "needs_background": "light"
     },
     "output_type": "display_data"
    }
   ],
   "source": [
    "plt.figure(figsize=(15, 15))\n",
    "sns.displot(df['Temperature'],kind='kde')\n",
    "plt.show()"
   ]
  },
  {
   "cell_type": "code",
   "execution_count": 61,
   "id": "ef2e933e",
   "metadata": {},
   "outputs": [
    {
     "data": {
      "image/png": "[encoded data removed]",
      "text/plain": [
       "<Figure size 1080x576 with 2 Axes>"
      ]
     },
     "metadata": {
      "needs_background": "light"
     },
     "output_type": "display_data"
    }
   ],
   "source": [
    "plt.figure(figsize=(15,8))\n",
    "sns.heatmap(df.corr(),annot=True)\n",
    "plt.show()"
   ]
  },
  {
   "cell_type": "code",
   "execution_count": 62,
   "id": "1a6d8e8a",
   "metadata": {},
   "outputs": [],
   "source": [
    "#We can obaserve month, RH,Ws,Rain,Region and Classes are -vely correlated with temparature\n",
    "#We can observer that day, FFMC,DMC,DC,ISI,BUI and FWI are +vely correlated with tempareture\n",
    "#If we observe heatmap carefully BUI has correlation with DC and DMC almost 1 so any of feature is sufficient for the recongization of temprature"
   ]
  },
  {
   "cell_type": "code",
   "execution_count": 63,
   "id": "2f130ddb",
   "metadata": {},
   "outputs": [
    {
     "data": {
      "text/plain": [
       "Text(0, 0.5, 'Temperature')"
      ]
     },
     "execution_count": 63,
     "metadata": {},
     "output_type": "execute_result"
    },
    {
     "data": {
      "image/png": "[encoded data removed]",
      "text/plain": [
       "<Figure size 432x288 with 1 Axes>"
      ]
     },
     "metadata": {
      "needs_background": "light"
     },
     "output_type": "display_data"
    }
   ],
   "source": [
    "plt.scatter(df['Rain'],df['Temperature'])\n",
    "plt.xlabel('Rain')\n",
    "plt.ylabel('Temperature')"
   ]
  },
  {
   "cell_type": "code",
   "execution_count": 64,
   "id": "36f740e5",
   "metadata": {},
   "outputs": [],
   "source": [
    "#from scatter plot we observe that less rain fall more likely high temprature."
   ]
  },
  {
   "cell_type": "code",
   "execution_count": 65,
   "id": "86b6f1ee",
   "metadata": {},
   "outputs": [
    {
     "data": {
      "text/plain": [
       "Text(0, 0.5, 'Temperature')"
      ]
     },
     "execution_count": 65,
     "metadata": {},
     "output_type": "execute_result"
    },
    {
     "data": {
      "image/png": "[encoded data removed]",
      "text/plain": [
       "<Figure size 432x288 with 1 Axes>"
      ]
     },
     "metadata": {
      "needs_background": "light"
     },
     "output_type": "display_data"
    }
   ],
   "source": [
    "plt.scatter(encoded_data['FFMC'],encoded_data['Temperature'])\n",
    "plt.xlabel('FFMC')\n",
    "plt.ylabel('Temperature')"
   ]
  },
  {
   "cell_type": "code",
   "execution_count": 66,
   "id": "46acc502",
   "metadata": {},
   "outputs": [],
   "source": [
    "#FFMC has the linear relationship with the temprature"
   ]
  },
  {
   "cell_type": "code",
   "execution_count": 67,
   "id": "7561d27e",
   "metadata": {},
   "outputs": [
    {
     "data": {
      "text/plain": [
       "Text(0, 0.5, 'Temperature')"
      ]
     },
     "execution_count": 67,
     "metadata": {},
     "output_type": "execute_result"
    },
    {
     "data": {
      "image/png": "[encoded data removed]",
      "text/plain": [
       "<Figure size 432x288 with 1 Axes>"
      ]
     },
     "metadata": {
      "needs_background": "light"
     },
     "output_type": "display_data"
    }
   ],
   "source": [
    "plt.scatter(encoded_data['BUI'],encoded_data['Temperature'])\n",
    "plt.xlabel('BUI')\n",
    "plt.ylabel('Temperature')"
   ]
  },
  {
   "cell_type": "code",
   "execution_count": 68,
   "id": "84b6030f",
   "metadata": {},
   "outputs": [
    {
     "data": {
      "text/plain": [
       "<AxesSubplot:xlabel='FFMC', ylabel='Temperature'>"
      ]
     },
     "execution_count": 68,
     "metadata": {},
     "output_type": "execute_result"
    },
    {
     "data": {
      "image/png": "[encoded data removed]",
      "text/plain": [
       "<Figure size 432x288 with 1 Axes>"
      ]
     },
     "metadata": {
      "needs_background": "light"
     },
     "output_type": "display_data"
    }
   ],
   "source": [
    "sns.regplot(x='FFMC',y='Temperature',data=df)"
   ]
  },
  {
   "cell_type": "code",
   "execution_count": 69,
   "id": "64d53f6c",
   "metadata": {},
   "outputs": [
    {
     "data": {
      "text/plain": [
       "<AxesSubplot:xlabel='Rain', ylabel='Temperature'>"
      ]
     },
     "execution_count": 69,
     "metadata": {},
     "output_type": "execute_result"
    },
    {
     "data": {
      "image/png": "[encoded data removed]",
      "text/plain": [
       "<Figure size 432x288 with 1 Axes>"
      ]
     },
     "metadata": {
      "needs_background": "light"
     },
     "output_type": "display_data"
    }
   ],
   "source": [
    "sns.regplot(x='Rain',y='Temperature',data=df)"
   ]
  },
  {
   "cell_type": "code",
   "execution_count": 70,
   "id": "ef3cf1b0",
   "metadata": {},
   "outputs": [
    {
     "data": {
      "text/plain": [
       "<AxesSubplot:xlabel='Rain'>"
      ]
     },
     "execution_count": 70,
     "metadata": {},
     "output_type": "execute_result"
    },
    {
     "data": {
      "image/png": "[encoded data removed]",
      "text/plain": [
       "<Figure size 432x288 with 1 Axes>"
      ]
     },
     "metadata": {
      "needs_background": "light"
     },
     "output_type": "display_data"
    }
   ],
   "source": [
    "sns.boxplot(df['Rain'])"
   ]
  },
  {
   "cell_type": "code",
   "execution_count": 71,
   "id": "135fb5cf",
   "metadata": {},
   "outputs": [
    {
     "data": {
      "text/plain": [
       "<AxesSubplot:xlabel='FFMC'>"
      ]
     },
     "execution_count": 71,
     "metadata": {},
     "output_type": "execute_result"
    },
    {
     "data": {
      "image/png": "[encoded data removed]",
      "text/plain": [
       "<Figure size 432x288 with 1 Axes>"
      ]
     },
     "metadata": {
      "needs_background": "light"
     },
     "output_type": "display_data"
    }
   ],
   "source": [
    "sns.boxplot(df['FFMC'])"
   ]
  },
  {
   "cell_type": "code",
   "execution_count": 72,
   "id": "1501d51b",
   "metadata": {},
   "outputs": [
    {
     "data": {
      "text/plain": [
       "<AxesSubplot:xlabel='BUI'>"
      ]
     },
     "execution_count": 72,
     "metadata": {},
     "output_type": "execute_result"
    },
    {
     "data": {
      "image/png": "[encoded data removed]",
      "text/plain": [
       "<Figure size 432x288 with 1 Axes>"
      ]
     },
     "metadata": {
      "needs_background": "light"
     },
     "output_type": "display_data"
    }
   ],
   "source": [
    "sns.boxplot(df['BUI'])"
   ]
  },
  {
   "cell_type": "code",
   "execution_count": 74,
   "id": "a3271b1d",
   "metadata": {},
   "outputs": [
    {
     "data": {
      "text/html": [
       "<div>\n",
       "<style scoped>\n",
       "    .dataframe tbody tr th:only-of-type {\n",
       "        vertical-align: middle;\n",
       "    }\n",
       "\n",
       "    .dataframe tbody tr th {\n",
       "        vertical-align: top;\n",
       "    }\n",
       "\n",
       "    .dataframe thead th {\n",
       "        text-align: right;\n",
       "    }\n",
       "</style>\n",
       "<table border=\"1\" class=\"dataframe\">\n",
       "  <thead>\n",
       "    <tr style=\"text-align: right;\">\n",
       "      <th></th>\n",
       "      <th>day</th>\n",
       "      <th>month</th>\n",
       "      <th>Temperature</th>\n",
       "      <th>RH</th>\n",
       "      <th>Ws</th>\n",
       "      <th>Rain</th>\n",
       "      <th>FFMC</th>\n",
       "      <th>DMC</th>\n",
       "      <th>ISI</th>\n",
       "      <th>BUI</th>\n",
       "      <th>region</th>\n",
       "      <th>Region</th>\n",
       "    </tr>\n",
       "  </thead>\n",
       "  <tbody>\n",
       "    <tr>\n",
       "      <th>0</th>\n",
       "      <td>1</td>\n",
       "      <td>6</td>\n",
       "      <td>29</td>\n",
       "      <td>57</td>\n",
       "      <td>18.0</td>\n",
       "      <td>0.0</td>\n",
       "      <td>65.7</td>\n",
       "      <td>3.4</td>\n",
       "      <td>1.3</td>\n",
       "      <td>3.4</td>\n",
       "      <td>0.0</td>\n",
       "      <td>1</td>\n",
       "    </tr>\n",
       "    <tr>\n",
       "      <th>1</th>\n",
       "      <td>2</td>\n",
       "      <td>6</td>\n",
       "      <td>29</td>\n",
       "      <td>61</td>\n",
       "      <td>13.0</td>\n",
       "      <td>1.3</td>\n",
       "      <td>64.4</td>\n",
       "      <td>4.1</td>\n",
       "      <td>1.0</td>\n",
       "      <td>3.9</td>\n",
       "      <td>0.0</td>\n",
       "      <td>1</td>\n",
       "    </tr>\n",
       "    <tr>\n",
       "      <th>2</th>\n",
       "      <td>3</td>\n",
       "      <td>6</td>\n",
       "      <td>26</td>\n",
       "      <td>82</td>\n",
       "      <td>22.0</td>\n",
       "      <td>13.1</td>\n",
       "      <td>47.1</td>\n",
       "      <td>2.5</td>\n",
       "      <td>0.3</td>\n",
       "      <td>2.7</td>\n",
       "      <td>0.0</td>\n",
       "      <td>1</td>\n",
       "    </tr>\n",
       "    <tr>\n",
       "      <th>3</th>\n",
       "      <td>4</td>\n",
       "      <td>6</td>\n",
       "      <td>25</td>\n",
       "      <td>89</td>\n",
       "      <td>13.0</td>\n",
       "      <td>2.5</td>\n",
       "      <td>28.6</td>\n",
       "      <td>1.3</td>\n",
       "      <td>0.0</td>\n",
       "      <td>1.7</td>\n",
       "      <td>0.0</td>\n",
       "      <td>1</td>\n",
       "    </tr>\n",
       "    <tr>\n",
       "      <th>4</th>\n",
       "      <td>5</td>\n",
       "      <td>6</td>\n",
       "      <td>27</td>\n",
       "      <td>77</td>\n",
       "      <td>16.0</td>\n",
       "      <td>0.0</td>\n",
       "      <td>64.8</td>\n",
       "      <td>3.0</td>\n",
       "      <td>1.2</td>\n",
       "      <td>3.9</td>\n",
       "      <td>0.0</td>\n",
       "      <td>1</td>\n",
       "    </tr>\n",
       "  </tbody>\n",
       "</table>\n",
       "</div>"
      ],
      "text/plain": [
       "   day  month  Temperature  RH    Ws  Rain  FFMC  DMC  ISI  BUI  region  \\\n",
       "0    1      6           29  57  18.0   0.0  65.7  3.4  1.3  3.4     0.0   \n",
       "1    2      6           29  61  13.0   1.3  64.4  4.1  1.0  3.9     0.0   \n",
       "2    3      6           26  82  22.0  13.1  47.1  2.5  0.3  2.7     0.0   \n",
       "3    4      6           25  89  13.0   2.5  28.6  1.3  0.0  1.7     0.0   \n",
       "4    5      6           27  77  16.0   0.0  64.8  3.0  1.2  3.9     0.0   \n",
       "\n",
       "   Region  \n",
       "0       1  \n",
       "1       1  \n",
       "2       1  \n",
       "3       1  \n",
       "4       1  "
      ]
     },
     "execution_count": 74,
     "metadata": {},
     "output_type": "execute_result"
    }
   ],
   "source": [
    "X = df[numerical_features]\n",
    "X.head()"
   ]
  },
  {
   "cell_type": "code",
   "execution_count": 75,
   "id": "32f7bca6",
   "metadata": {},
   "outputs": [
    {
     "data": {
      "text/plain": [
       "0    29\n",
       "1    29\n",
       "2    26\n",
       "3    25\n",
       "4    27\n",
       "Name: Temperature, dtype: int32"
      ]
     },
     "execution_count": 75,
     "metadata": {},
     "output_type": "execute_result"
    }
   ],
   "source": [
    "y = df['Temperature']\n",
    "y.head()"
   ]
  },
  {
   "cell_type": "markdown",
   "id": "b3a119a0",
   "metadata": {},
   "source": [
    "# create a model"
   ]
  },
  {
   "cell_type": "code",
   "execution_count": 76,
   "id": "96ef8cf0",
   "metadata": {},
   "outputs": [],
   "source": [
    "# train test split\n",
    "from sklearn.model_selection import train_test_split"
   ]
  },
  {
   "cell_type": "code",
   "execution_count": 77,
   "id": "94129b84",
   "metadata": {},
   "outputs": [],
   "source": [
    "X_train, X_test, y_train, y_test = train_test_split(\n",
    "...    X, y, test_size=0.33, random_state=10)"
   ]
  },
  {
   "cell_type": "code",
   "execution_count": 78,
   "id": "b3f0ca26",
   "metadata": {},
   "outputs": [
    {
     "data": {
      "text/html": [
       "<div>\n",
       "<style scoped>\n",
       "    .dataframe tbody tr th:only-of-type {\n",
       "        vertical-align: middle;\n",
       "    }\n",
       "\n",
       "    .dataframe tbody tr th {\n",
       "        vertical-align: top;\n",
       "    }\n",
       "\n",
       "    .dataframe thead th {\n",
       "        text-align: right;\n",
       "    }\n",
       "</style>\n",
       "<table border=\"1\" class=\"dataframe\">\n",
       "  <thead>\n",
       "    <tr style=\"text-align: right;\">\n",
       "      <th></th>\n",
       "      <th>day</th>\n",
       "      <th>month</th>\n",
       "      <th>Temperature</th>\n",
       "      <th>RH</th>\n",
       "      <th>Ws</th>\n",
       "      <th>Rain</th>\n",
       "      <th>FFMC</th>\n",
       "      <th>DMC</th>\n",
       "      <th>ISI</th>\n",
       "      <th>BUI</th>\n",
       "      <th>region</th>\n",
       "      <th>Region</th>\n",
       "    </tr>\n",
       "  </thead>\n",
       "  <tbody>\n",
       "    <tr>\n",
       "      <th>237</th>\n",
       "      <td>24</td>\n",
       "      <td>9</td>\n",
       "      <td>26</td>\n",
       "      <td>49</td>\n",
       "      <td>6.0</td>\n",
       "      <td>2.0</td>\n",
       "      <td>61.3</td>\n",
       "      <td>11.9</td>\n",
       "      <td>0.6</td>\n",
       "      <td>11.9</td>\n",
       "      <td>1.0</td>\n",
       "      <td>0</td>\n",
       "    </tr>\n",
       "    <tr>\n",
       "      <th>78</th>\n",
       "      <td>18</td>\n",
       "      <td>8</td>\n",
       "      <td>36</td>\n",
       "      <td>54</td>\n",
       "      <td>18.0</td>\n",
       "      <td>0.0</td>\n",
       "      <td>89.4</td>\n",
       "      <td>20.0</td>\n",
       "      <td>9.7</td>\n",
       "      <td>27.5</td>\n",
       "      <td>0.0</td>\n",
       "      <td>1</td>\n",
       "    </tr>\n",
       "    <tr>\n",
       "      <th>25</th>\n",
       "      <td>26</td>\n",
       "      <td>6</td>\n",
       "      <td>31</td>\n",
       "      <td>64</td>\n",
       "      <td>18.0</td>\n",
       "      <td>0.0</td>\n",
       "      <td>86.8</td>\n",
       "      <td>17.8</td>\n",
       "      <td>6.7</td>\n",
       "      <td>21.6</td>\n",
       "      <td>0.0</td>\n",
       "      <td>1</td>\n",
       "    </tr>\n",
       "    <tr>\n",
       "      <th>124</th>\n",
       "      <td>3</td>\n",
       "      <td>6</td>\n",
       "      <td>29</td>\n",
       "      <td>80</td>\n",
       "      <td>14.0</td>\n",
       "      <td>2.0</td>\n",
       "      <td>48.7</td>\n",
       "      <td>2.2</td>\n",
       "      <td>0.3</td>\n",
       "      <td>2.6</td>\n",
       "      <td>1.0</td>\n",
       "      <td>0</td>\n",
       "    </tr>\n",
       "    <tr>\n",
       "      <th>176</th>\n",
       "      <td>25</td>\n",
       "      <td>7</td>\n",
       "      <td>39</td>\n",
       "      <td>64</td>\n",
       "      <td>9.0</td>\n",
       "      <td>1.2</td>\n",
       "      <td>73.8</td>\n",
       "      <td>11.7</td>\n",
       "      <td>1.1</td>\n",
       "      <td>11.4</td>\n",
       "      <td>1.0</td>\n",
       "      <td>0</td>\n",
       "    </tr>\n",
       "    <tr>\n",
       "      <th>...</th>\n",
       "      <td>...</td>\n",
       "      <td>...</td>\n",
       "      <td>...</td>\n",
       "      <td>...</td>\n",
       "      <td>...</td>\n",
       "      <td>...</td>\n",
       "      <td>...</td>\n",
       "      <td>...</td>\n",
       "      <td>...</td>\n",
       "      <td>...</td>\n",
       "      <td>...</td>\n",
       "      <td>...</td>\n",
       "    </tr>\n",
       "    <tr>\n",
       "      <th>64</th>\n",
       "      <td>4</td>\n",
       "      <td>8</td>\n",
       "      <td>34</td>\n",
       "      <td>69</td>\n",
       "      <td>13.0</td>\n",
       "      <td>0.0</td>\n",
       "      <td>85.0</td>\n",
       "      <td>8.2</td>\n",
       "      <td>4.0</td>\n",
       "      <td>8.2</td>\n",
       "      <td>0.0</td>\n",
       "      <td>1</td>\n",
       "    </tr>\n",
       "    <tr>\n",
       "      <th>15</th>\n",
       "      <td>16</td>\n",
       "      <td>6</td>\n",
       "      <td>29</td>\n",
       "      <td>89</td>\n",
       "      <td>13.0</td>\n",
       "      <td>0.7</td>\n",
       "      <td>36.1</td>\n",
       "      <td>1.7</td>\n",
       "      <td>0.0</td>\n",
       "      <td>2.2</td>\n",
       "      <td>0.0</td>\n",
       "      <td>1</td>\n",
       "    </tr>\n",
       "    <tr>\n",
       "      <th>228</th>\n",
       "      <td>15</td>\n",
       "      <td>9</td>\n",
       "      <td>32</td>\n",
       "      <td>51</td>\n",
       "      <td>13.0</td>\n",
       "      <td>0.0</td>\n",
       "      <td>88.7</td>\n",
       "      <td>16.0</td>\n",
       "      <td>6.9</td>\n",
       "      <td>17.8</td>\n",
       "      <td>1.0</td>\n",
       "      <td>0</td>\n",
       "    </tr>\n",
       "    <tr>\n",
       "      <th>125</th>\n",
       "      <td>4</td>\n",
       "      <td>6</td>\n",
       "      <td>30</td>\n",
       "      <td>64</td>\n",
       "      <td>14.0</td>\n",
       "      <td>0.0</td>\n",
       "      <td>79.4</td>\n",
       "      <td>5.2</td>\n",
       "      <td>2.2</td>\n",
       "      <td>5.6</td>\n",
       "      <td>1.0</td>\n",
       "      <td>0</td>\n",
       "    </tr>\n",
       "    <tr>\n",
       "      <th>9</th>\n",
       "      <td>10</td>\n",
       "      <td>6</td>\n",
       "      <td>28</td>\n",
       "      <td>79</td>\n",
       "      <td>12.0</td>\n",
       "      <td>0.0</td>\n",
       "      <td>73.2</td>\n",
       "      <td>9.5</td>\n",
       "      <td>1.3</td>\n",
       "      <td>12.6</td>\n",
       "      <td>0.0</td>\n",
       "      <td>1</td>\n",
       "    </tr>\n",
       "  </tbody>\n",
       "</table>\n",
       "<p>163 rows × 12 columns</p>\n",
       "</div>"
      ],
      "text/plain": [
       "     day  month  Temperature  RH    Ws  Rain  FFMC   DMC  ISI   BUI  region  \\\n",
       "237   24      9           26  49   6.0   2.0  61.3  11.9  0.6  11.9     1.0   \n",
       "78    18      8           36  54  18.0   0.0  89.4  20.0  9.7  27.5     0.0   \n",
       "25    26      6           31  64  18.0   0.0  86.8  17.8  6.7  21.6     0.0   \n",
       "124    3      6           29  80  14.0   2.0  48.7   2.2  0.3   2.6     1.0   \n",
       "176   25      7           39  64   9.0   1.2  73.8  11.7  1.1  11.4     1.0   \n",
       "..   ...    ...          ...  ..   ...   ...   ...   ...  ...   ...     ...   \n",
       "64     4      8           34  69  13.0   0.0  85.0   8.2  4.0   8.2     0.0   \n",
       "15    16      6           29  89  13.0   0.7  36.1   1.7  0.0   2.2     0.0   \n",
       "228   15      9           32  51  13.0   0.0  88.7  16.0  6.9  17.8     1.0   \n",
       "125    4      6           30  64  14.0   0.0  79.4   5.2  2.2   5.6     1.0   \n",
       "9     10      6           28  79  12.0   0.0  73.2   9.5  1.3  12.6     0.0   \n",
       "\n",
       "     Region  \n",
       "237       0  \n",
       "78        1  \n",
       "25        1  \n",
       "124       0  \n",
       "176       0  \n",
       "..      ...  \n",
       "64        1  \n",
       "15        1  \n",
       "228       0  \n",
       "125       0  \n",
       "9         1  \n",
       "\n",
       "[163 rows x 12 columns]"
      ]
     },
     "execution_count": 78,
     "metadata": {},
     "output_type": "execute_result"
    }
   ],
   "source": [
    "X_train"
   ]
  },
  {
   "cell_type": "code",
   "execution_count": 79,
   "id": "996de0a1",
   "metadata": {},
   "outputs": [
    {
     "data": {
      "text/plain": [
       "237    26\n",
       "78     36\n",
       "25     31\n",
       "124    29\n",
       "176    39\n",
       "       ..\n",
       "64     34\n",
       "15     29\n",
       "228    32\n",
       "125    30\n",
       "9      28\n",
       "Name: Temperature, Length: 163, dtype: int32"
      ]
     },
     "execution_count": 79,
     "metadata": {},
     "output_type": "execute_result"
    }
   ],
   "source": [
    "y_train"
   ]
  },
  {
   "cell_type": "code",
   "execution_count": 80,
   "id": "013bc6e5",
   "metadata": {},
   "outputs": [
    {
     "data": {
      "text/plain": [
       "(163, 12)"
      ]
     },
     "execution_count": 80,
     "metadata": {},
     "output_type": "execute_result"
    }
   ],
   "source": [
    "X_train.shape"
   ]
  },
  {
   "cell_type": "code",
   "execution_count": 81,
   "id": "4c5d3a3d",
   "metadata": {},
   "outputs": [
    {
     "data": {
      "text/plain": [
       "(163,)"
      ]
     },
     "execution_count": 81,
     "metadata": {},
     "output_type": "execute_result"
    }
   ],
   "source": [
    "y_train.shape"
   ]
  },
  {
   "cell_type": "code",
   "execution_count": 82,
   "id": "58f69ed2",
   "metadata": {},
   "outputs": [],
   "source": [
    "# standarding the featues using Standard Scaler feature\n",
    "from sklearn.preprocessing import StandardScaler"
   ]
  },
  {
   "cell_type": "code",
   "execution_count": 83,
   "id": "2c53ac58",
   "metadata": {},
   "outputs": [],
   "source": [
    "scaler = StandardScaler()"
   ]
  },
  {
   "cell_type": "code",
   "execution_count": 84,
   "id": "e5f3b1ec",
   "metadata": {},
   "outputs": [],
   "source": [
    "X_train = scaler.fit_transform(X_train)"
   ]
  },
  {
   "cell_type": "code",
   "execution_count": 85,
   "id": "f2397c2e",
   "metadata": {},
   "outputs": [],
   "source": [
    "X_test = scaler.transform(X_test)"
   ]
  },
  {
   "cell_type": "code",
   "execution_count": 86,
   "id": "6b2bfeff",
   "metadata": {},
   "outputs": [
    {
     "data": {
      "text/plain": [
       "array([[ 1.0627621 ,  1.33562856, -1.77085211, ..., -0.32535487,\n",
       "         0.98176139, -0.98176139],\n",
       "       [ 0.34495731,  0.44338489,  1.09557186, ...,  0.76565444,\n",
       "        -1.01857744,  1.01857744],\n",
       "       [ 1.30203036, -1.34110244, -0.33764012, ...,  0.35302912,\n",
       "        -1.01857744,  1.01857744],\n",
       "       ...,\n",
       "       [-0.01394508,  1.33562856, -0.05099773, ...,  0.08727045,\n",
       "         0.98176139, -0.98176139],\n",
       "       [-1.32992053, -1.34110244, -0.62428252, ..., -0.76595478,\n",
       "         0.98176139, -0.98176139],\n",
       "       [-0.61211574, -1.34110244, -1.19756732, ..., -0.27639932,\n",
       "        -1.01857744,  1.01857744]])"
      ]
     },
     "execution_count": 86,
     "metadata": {},
     "output_type": "execute_result"
    }
   ],
   "source": [
    "X_train"
   ]
  },
  {
   "cell_type": "code",
   "execution_count": 87,
   "id": "5a0b66f4",
   "metadata": {},
   "outputs": [
    {
     "data": {
      "text/plain": [
       "array([[-4.92481607e-01, -4.48858777e-01,  5.22287067e-01,\n",
       "        -3.92594448e-01, -9.14668296e-02,  1.48701853e+00,\n",
       "        -1.82411230e-01, -6.02677495e-01, -7.33442383e-01,\n",
       "        -6.82030988e-01,  9.81761387e-01, -9.81761387e-01],\n",
       "       [ 1.90020102e+00, -4.48858777e-01,  8.08929464e-01,\n",
       "         1.37367416e-01,  6.35806011e-01, -4.41414004e-01,\n",
       "         6.64566895e-01,  1.37979749e+00,  4.94418103e-01,\n",
       "         1.72378441e+00, -1.01857744e+00,  1.01857744e+00],\n",
       "       [-1.68882292e+00,  4.43384889e-01,  1.09557186e+00,\n",
       "        -1.12129201e+00, -4.55103250e-01, -4.41414004e-01,\n",
       "         9.08075201e-02, -7.86536062e-01, -6.38991577e-01,\n",
       "        -8.28897625e-01, -1.01857744e+00,  1.01857744e+00],\n",
       "       [-1.44955466e+00,  4.43384889e-01,  8.08929464e-01,\n",
       "         7.11221826e-02, -4.55103250e-01, -2.41920984e-01,\n",
       "        -5.94627923e-02, -7.14591405e-01, -7.09829682e-01,\n",
       "        -7.72948430e-01, -1.01857744e+00,  1.01857744e+00],\n",
       "       [-7.31749870e-01,  4.43384889e-01,  8.08929464e-01,\n",
       "        -1.93858749e-01,  6.35806011e-01, -4.41414004e-01,\n",
       "         6.78227832e-01,  1.28490116e-02,  5.18030804e-01,\n",
       "         9.42640966e-02, -1.01857744e+00,  1.01857744e+00],\n",
       "       [ 9.43127966e-01,  4.43384889e-01,  1.09557186e+00,\n",
       "        -5.91330147e-01,  2.72169591e-01, -4.41414004e-01,\n",
       "         8.21667676e-01,  1.83544698e+00,  1.34447536e+00,\n",
       "         2.16438432e+00, -1.01857744e+00,  1.01857744e+00],\n",
       "       [ 1.30203036e+00, -4.48858777e-01,  1.09557186e+00,\n",
       "        -5.91330147e-01,  1.36307885e+00, -4.41414004e-01,\n",
       "         8.01176270e-01,  1.96707579e-01,  1.25002456e+00,\n",
       "         5.13883061e-01, -1.01857744e+00,  1.01857744e+00],\n",
       "       [ 1.66093275e+00,  4.43384889e-01,  8.08929464e-01,\n",
       "        -5.91330147e-01,  6.35806011e-01, -1.08925637e-01,\n",
       "         1.86434082e-01,  4.84486205e-01, -4.73702665e-01,\n",
       "         9.82457572e-01,  9.81761387e-01, -9.81761387e-01],\n",
       "       [ 2.25323179e-01, -4.48858777e-01, -9.10924919e-01,\n",
       "         5.34838813e-01, -4.55103250e-01, -4.41414004e-01,\n",
       "         3.64026270e-01, -4.18818928e-01, -3.55639157e-01,\n",
       "        -3.81304063e-01, -1.01857744e+00,  1.01857744e+00],\n",
       "       [-1.09065226e+00, -4.48858777e-01, -5.09977271e-02,\n",
       "         7.11221826e-02, -4.55103250e-01, -4.41414004e-01,\n",
       "         6.50905957e-01, -2.98911167e-01,  2.11065683e-01,\n",
       "        -2.83392971e-01, -1.01857744e+00,  1.01857744e+00],\n",
       "       [ 1.78056688e+00, -4.48858777e-01,  1.09557186e+00,\n",
       "        -3.92594448e-01,  2.72169591e-01, -4.41414004e-01,\n",
       "         7.80684863e-01,  7.32295578e-01,  8.24995926e-01,\n",
       "         5.06889412e-01,  9.81761387e-01, -9.81761387e-01],\n",
       "       [-4.92481607e-01,  1.33562856e+00, -6.24282521e-01,\n",
       "         9.98555444e-01,  2.09035169e+00,  7.55544118e-01,\n",
       "        -1.29577764e+00, -1.01835773e+00, -8.51505892e-01,\n",
       "        -9.89751562e-01, -1.01857744e+00,  1.01857744e+00],\n",
       "       [-2.53213345e-01,  4.43384889e-01,  8.08929464e-01,\n",
       "        -1.84998957e+00,  2.72169591e-01, -3.08418657e-01,\n",
       "         7.39702051e-01,  1.80719877e-01,  6.59707014e-01,\n",
       "         6.62894990e-02,  9.81761387e-01, -9.81761387e-01],\n",
       "       [-1.09065226e+00,  1.33562856e+00,  5.22287067e-01,\n",
       "         6.01084046e-01, -4.55103250e-01,  3.88093477e+00,\n",
       "        -8.85949510e-01, -9.06443823e-01, -8.75118593e-01,\n",
       "        -9.12821418e-01,  9.81761387e-01, -9.81761387e-01],\n",
       "       [-8.51384001e-01, -4.48858777e-01,  8.08929464e-01,\n",
       "        -9.88801544e-01,  9.99442431e-01,  3.54844640e+00,\n",
       "         2.27416895e-01, -3.86843525e-01, -3.79251858e-01,\n",
       "        -5.00196103e-01,  9.81761387e-01, -9.81761387e-01],\n",
       "       [ 1.18239623e+00, -1.34110244e+00,  5.22287067e-01,\n",
       "         5.34838813e-01,  2.72169591e-01, -4.41414004e-01,\n",
       "         5.82601270e-01, -1.47028003e-01,  1.63840280e-01,\n",
       "        -2.69405673e-01,  9.81761387e-01, -9.81761387e-01],\n",
       "       [-1.09065226e+00, -1.34110244e+00,  8.08929464e-01,\n",
       "        -5.25084914e-01, -1.54601251e+00, -3.74916331e-01,\n",
       "         4.25500489e-01, -4.98757435e-01, -3.79251858e-01,\n",
       "        -5.07189753e-01,  9.81761387e-01, -9.81761387e-01],\n",
       "       [ 1.78056688e+00,  1.33562856e+00, -2.05749451e+00,\n",
       "         1.06480068e+00, -4.55103250e-01,  4.89553424e-01,\n",
       "        -2.21789092e+00, -1.01835773e+00, -1.06402021e+00,\n",
       "        -9.89751562e-01, -1.01857744e+00,  1.01857744e+00],\n",
       "       [-1.32992053e+00,  4.43384889e-01,  1.66885666e+00,\n",
       "        -1.78374434e+00, -9.14668296e-02, -4.41414004e-01,\n",
       "         1.11537783e+00,  6.68344772e-01,  2.59594855e+00,\n",
       "         4.43946567e-01,  9.81761387e-01, -9.81761387e-01],\n",
       "       [ 5.84225573e-01, -4.48858777e-01,  1.09557186e+00,\n",
       "        -7.90065846e-01,  2.72169591e-01, -4.41414004e-01,\n",
       "         8.48989551e-01,  1.44374829e+00,  1.13196105e+00,\n",
       "         1.12233056e+00,  9.81761387e-01, -9.81761387e-01],\n",
       "       [-4.92481607e-01, -1.34110244e+00, -3.37640124e-01,\n",
       "         2.03612648e-01, -4.55103250e-01, -4.41414004e-01,\n",
       "         4.80144239e-01, -1.71009555e-01, -1.66737544e-01,\n",
       "        -5.26025410e-02, -1.01857744e+00,  1.01857744e+00],\n",
       "       [ 1.90020102e+00,  4.43384889e-01, -6.24282521e-01,\n",
       "        -1.93858749e-01,  1.36307885e+00, -4.41414004e-01,\n",
       "         7.94345801e-01,  1.05204961e+00,  1.20279915e+00,\n",
       "         1.59090507e+00,  9.81761387e-01, -9.81761387e-01],\n",
       "       [ 1.42166449e+00, -1.34110244e+00,  5.22287067e-01,\n",
       "        -5.91330147e-01,  9.99442431e-01, -4.41414004e-01,\n",
       "         7.87515332e-01,  5.56430862e-01,  1.06112294e+00,\n",
       "         6.46762400e-01, -1.01857744e+00,  1.01857744e+00],\n",
       "       [ 1.30203036e+00, -1.34110244e+00,  1.09557186e+00,\n",
       "         4.87694966e-03,  2.72169591e-01, -4.41414004e-01,\n",
       "         7.05549707e-01,  1.48744474e-01,  5.41643506e-01,\n",
       "        -1.06406445e-02,  9.81761387e-01, -9.81761387e-01],\n",
       "       [-1.44955466e+00,  4.43384889e-01,  1.95549905e+00,\n",
       "        -1.91623481e+00,  6.35806011e-01, -4.41414004e-01,\n",
       "         1.10854736e+00,  1.96707579e-01,  2.95013907e+00,\n",
       "         2.43276025e-02,  9.81761387e-01, -9.81761387e-01],\n",
       "       [-1.39450828e-02, -1.34110244e+00, -1.19756732e+00,\n",
       "         1.85974347e+00, -9.14668296e-02, -4.41414004e-01,\n",
       "        -7.28848729e-01, -5.94683644e-01, -8.27893190e-01,\n",
       "        -6.61050040e-01,  9.81761387e-01, -9.81761387e-01],\n",
       "       [ 1.05689048e-01,  4.43384889e-01,  1.09557186e+00,\n",
       "        -6.13682833e-02,  9.99442431e-01, -2.41920984e-01,\n",
       "         1.86434082e-01, -2.34960361e-01, -4.50089963e-01,\n",
       "         7.32831484e-02, -1.01857744e+00,  1.01857744e+00],\n",
       "       [ 1.54129862e+00,  1.33562856e+00, -5.09977271e-02,\n",
       "        -9.88801544e-01, -4.55103250e-01,  2.40697100e-02,\n",
       "         2.01142638e-03, -6.02677495e-01, -6.86216980e-01,\n",
       "        -6.82030988e-01, -1.01857744e+00,  1.01857744e+00],\n",
       "       [ 1.66093275e+00,  1.33562856e+00, -1.77085211e+00,\n",
       "         1.19729114e+00,  2.72169591e-01,  7.55544118e-01,\n",
       "        -2.05395967e+00, -9.38419226e-01, -1.04040750e+00,\n",
       "        -9.47789665e-01, -1.01857744e+00,  1.01857744e+00],\n",
       "       [ 1.78056688e+00, -4.48858777e-01, -3.37640124e-01,\n",
       "         1.13104591e+00, -9.14668296e-02, -4.41414004e-01,\n",
       "         5.41618457e-01,  1.10800656e+00, -1.44863200e-03,\n",
       "         1.45802573e+00, -1.01857744e+00,  1.01857744e+00],\n",
       "       [ 1.18239623e+00,  1.33562856e+00, -1.77085211e+00,\n",
       "         1.26353638e+00,  2.09035169e+00,  3.41545106e+00,\n",
       "        -1.97199404e+00, -9.30425375e-01, -1.01679480e+00,\n",
       "        -9.47789665e-01, -1.01857744e+00,  1.01857744e+00],\n",
       "       [-1.68882292e+00,  1.33562856e+00, -9.10924919e-01,\n",
       "         1.59476254e+00,  2.72169591e-01, -4.41414004e-01,\n",
       "        -2.70285420e+00, -1.09829624e+00, -1.08763291e+00,\n",
       "        -1.05968806e+00,  9.81761387e-01, -9.81761387e-01],\n",
       "       [-9.71018132e-01, -1.34110244e+00,  2.35644670e-01,\n",
       "        -5.25084914e-01, -8.18739670e-01, -4.41414004e-01,\n",
       "         7.32871582e-01, -3.78849674e-01,  3.99967296e-01,\n",
       "        -3.95291362e-01, -1.01857744e+00,  1.01857744e+00],\n",
       "       [-6.12115738e-01, -4.48858777e-01,  5.22287067e-01,\n",
       "        -7.23820613e-01,  2.72169591e-01,  2.08549759e+00,\n",
       "         2.01142638e-03, -5.30732838e-01, -6.38991577e-01,\n",
       "        -6.19088143e-01,  9.81761387e-01, -9.81761387e-01],\n",
       "       [ 1.18239623e+00, -1.34110244e+00, -3.37640124e-01,\n",
       "         1.37367416e-01, -9.14668296e-02, -4.41414004e-01,\n",
       "         6.30414551e-01, -3.51140928e-02,  2.34678385e-01,\n",
       "         1.22238694e-01, -1.01857744e+00,  1.01857744e+00],\n",
       "       [-1.56918879e+00,  1.33562856e+00, -1.19756732e+00,\n",
       "         3.36103114e-01,  1.36307885e+00, -4.41414004e-01,\n",
       "        -1.41428417e-01, -9.38419226e-01, -6.38991577e-01,\n",
       "        -8.77853171e-01,  9.81761387e-01, -9.81761387e-01],\n",
       "       [ 5.84225573e-01, -1.34110244e+00, -6.24282521e-01,\n",
       "         1.19729114e+00,  2.72169591e-01, -1.75423310e-01,\n",
       "        -1.20698154e+00, -8.98449972e-01, -8.98731295e-01,\n",
       "        -8.00923028e-01, -1.01857744e+00,  1.01857744e+00],\n",
       "       [-9.71018132e-01,  1.33562856e+00, -3.37640124e-01,\n",
       "         4.87694966e-03, -9.14668296e-02, -4.41414004e-01,\n",
       "         3.98178614e-01, -7.06597555e-01, -2.13962947e-01,\n",
       "        -7.10005585e-01,  9.81761387e-01, -9.81761387e-01],\n",
       "       [-1.39450828e-02,  1.33562856e+00, -2.34413690e+00,\n",
       "         1.32978161e+00, -9.14668296e-02, -1.75423310e-01,\n",
       "        -2.22472138e+00, -1.09829624e+00, -1.06402021e+00,\n",
       "        -1.05968806e+00, -1.01857744e+00,  1.01857744e+00],\n",
       "       [ 1.42166449e+00, -4.48858777e-01,  1.09557186e+00,\n",
       "        -9.22556312e-01, -8.18739670e-01, -4.41414004e-01,\n",
       "         8.76311426e-01,  6.04393966e-01,  9.43059434e-01,\n",
       "         8.98533779e-01, -1.01857744e+00,  1.01857744e+00],\n",
       "       [ 5.84225573e-01,  4.43384889e-01,  8.08929464e-01,\n",
       "         4.02348347e-01,  1.36307885e+00, -4.41414004e-01,\n",
       "         7.39702051e-01,  9.00166443e-01,  9.66672136e-01,\n",
       "         1.26919720e+00, -1.01857744e+00,  1.01857744e+00],\n",
       "       [ 1.90020102e+00, -4.48858777e-01,  1.38221426e+00,\n",
       "        -4.58839681e-01, -9.14668296e-02, -4.41414004e-01,\n",
       "         8.08006738e-01,  1.09201886e+00,  8.48608628e-01,\n",
       "         8.21603635e-01,  9.81761387e-01, -9.81761387e-01],\n",
       "       [-4.92481607e-01, -1.34110244e+00, -3.37640124e-01,\n",
       "        -1.32002771e+00,  2.09035169e+00, -4.41414004e-01,\n",
       "         8.96802832e-01,  2.84639937e-01,  2.05285641e+00,\n",
       "         1.01257746e-01,  9.81761387e-01, -9.81761387e-01],\n",
       "       [-1.44955466e+00,  1.33562856e+00, -1.19756732e+00,\n",
       "         8.66064978e-01,  2.72169591e-01, -4.41414004e-01,\n",
       "         3.23043457e-01, -8.18511465e-01, -3.32026455e-01,\n",
       "        -7.37980183e-01,  9.81761387e-01, -9.81761387e-01],\n",
       "       [ 1.05689048e-01,  4.43384889e-01,  2.24214145e+00,\n",
       "        -1.38627294e+00, -1.90964893e+00, -3.74916331e-01,\n",
       "         9.92429394e-01,  6.36369369e-01,  1.13196105e+00,\n",
       "         5.34864009e-01,  9.81761387e-01, -9.81761387e-01],\n",
       "       [-6.12115738e-01,  4.43384889e-01,  8.08929464e-01,\n",
       "        -4.58839681e-01, -4.55103250e-01, -4.41414004e-01,\n",
       "         7.80684863e-01,  3.16615340e-01,  6.36094313e-01,\n",
       "         3.74010073e-01, -1.01857744e+00,  1.01857744e+00],\n",
       "       [ 1.90020102e+00,  4.43384889e-01, -1.19756732e+00,\n",
       "         1.19729114e+00,  2.09035169e+00,  1.07301951e+01,\n",
       "        -1.70560576e+00, -4.74775883e-01, -9.69569400e-01,\n",
       "        -5.77126247e-01, -1.01857744e+00,  1.01857744e+00],\n",
       "       [-3.72847476e-01, -4.48858777e-01,  1.09557186e+00,\n",
       "        -1.18753724e+00, -8.18739670e-01, -4.41414004e-01,\n",
       "         8.62650488e-01, -1.63015705e-01,  8.48608628e-01,\n",
       "        -2.83392971e-01,  9.81761387e-01, -9.81761387e-01],\n",
       "       [ 1.42166449e+00, -1.34110244e+00,  1.09557186e+00,\n",
       "        -4.58839681e-01, -9.14668296e-02, -4.41414004e-01,\n",
       "         7.94345801e-01,  5.00473906e-01,  7.77770523e-01,\n",
       "         2.97079929e-01,  9.81761387e-01, -9.81761387e-01],\n",
       "       [-3.72847476e-01,  1.33562856e+00, -9.10924919e-01,\n",
       "         1.72725301e+00, -8.18739670e-01, -4.41414004e-01,\n",
       "        -4.41969042e-01, -9.62400778e-01, -8.27893190e-01,\n",
       "        -8.98834119e-01, -1.01857744e+00,  1.01857744e+00],\n",
       "       [ 7.03859704e-01, -1.34110244e+00, -6.24282521e-01,\n",
       "         1.06480068e+00, -4.55103250e-01, -4.41414004e-01,\n",
       "         2.41077832e-01, -6.66628301e-01, -4.97315367e-01,\n",
       "        -5.70132597e-01, -1.01857744e+00,  1.01857744e+00],\n",
       "       [ 3.44957311e-01, -4.48858777e-01, -3.37640124e-01,\n",
       "         4.02348347e-01, -4.55103250e-01, -4.41414004e-01,\n",
       "         5.41618457e-01, -2.02984958e-01, -2.50613337e-02,\n",
       "        -1.64500931e-01, -1.01857744e+00,  1.01857744e+00],\n",
       "       [ 9.43127966e-01,  4.43384889e-01,  1.09557186e+00,\n",
       "        -1.25378248e+00,  2.72169591e-01, -4.41414004e-01,\n",
       "         9.37785644e-01,  2.51492429e+00,  1.60421508e+00,\n",
       "         2.35321286e+00,  9.81761387e-01, -9.81761387e-01],\n",
       "       [-1.09065226e+00, -1.34110244e+00, -3.37640124e-01,\n",
       "         3.36103114e-01, -4.55103250e-01, -4.41414004e-01,\n",
       "         3.50365332e-01, -7.06597555e-01, -3.79251858e-01,\n",
       "        -6.68043689e-01, -1.01857744e+00,  1.01857744e+00],\n",
       "       [ 5.84225573e-01,  1.33562856e+00, -1.19756732e+00,\n",
       "         1.46227207e+00,  9.99442431e-01, -4.41414004e-01,\n",
       "         4.32330957e-01, -9.10710479e-02, -4.86740353e-02,\n",
       "        -3.86152421e-02, -1.01857744e+00,  1.01857744e+00],\n",
       "       [-9.71018132e-01,  1.33562856e+00, -3.37640124e-01,\n",
       "         6.01084046e-01,  6.35806011e-01, -2.41920984e-01,\n",
       "        -5.37595604e-01, -9.14437674e-01, -7.57055085e-01,\n",
       "        -8.00923028e-01, -1.01857744e+00,  1.01857744e+00],\n",
       "       [ 4.64591442e-01,  4.43384889e-01,  8.08929464e-01,\n",
       "         2.69857881e-01, -9.14668296e-02, -3.74916331e-01,\n",
       "         3.57195801e-01,  1.44374829e+00, -3.32026455e-01,\n",
       "         1.32514639e+00,  9.81761387e-01, -9.81761387e-01],\n",
       "       [ 1.54129862e+00, -1.34110244e+00,  1.38221426e+00,\n",
       "        -1.65125387e+00, -8.18739670e-01, -4.41414004e-01,\n",
       "         1.02658174e+00,  1.00408650e+00,  1.65144048e+00,\n",
       "         7.37679842e-01,  9.81761387e-01, -9.81761387e-01],\n",
       "       [ 1.06276210e+00, -4.48858777e-01,  2.35644670e-01,\n",
       "         7.11221826e-02,  6.35806011e-01,  2.90060404e-01,\n",
       "        -3.19020605e-01,  5.00473906e-01, -7.33442383e-01,\n",
       "         3.60022774e-01,  9.81761387e-01, -9.81761387e-01],\n",
       "       [-2.53213345e-01,  1.33562856e+00, -9.10924919e-01,\n",
       "        -8.56311079e-01,  1.36307885e+00, -4.41414004e-01,\n",
       "         7.60193457e-01, -2.50948063e-01,  1.03751024e+00,\n",
       "        -2.90386621e-01,  9.81761387e-01, -9.81761387e-01],\n",
       "       [ 5.84225573e-01, -4.48858777e-01,  2.35644670e-01,\n",
       "         2.03612648e-01, -9.14668296e-02, -3.74916331e-01,\n",
       "         2.68399707e-01, -1.86997257e-01, -4.50089963e-01,\n",
       "        -3.64699509e-03, -1.01857744e+00,  1.01857744e+00],\n",
       "       [ 1.66093275e+00, -4.48858777e-01, -5.09977271e-02,\n",
       "         7.33574512e-01, -9.14668296e-02, -4.41414004e-01,\n",
       "         6.23584082e-01,  9.64117249e-01,  2.11065683e-01,\n",
       "         1.29017815e+00, -1.01857744e+00,  1.01857744e+00],\n",
       "       [-1.56918879e+00, -1.34110244e+00, -9.10924919e-01,\n",
       "        -6.13682833e-02, -8.18739670e-01,  4.23055751e-01,\n",
       "        -8.92779979e-01, -8.42493017e-01, -8.75118593e-01,\n",
       "        -8.84846821e-01, -1.01857744e+00,  1.01857744e+00],\n",
       "       [-1.44955466e+00, -1.34110244e+00, -1.77085211e+00,\n",
       "         1.32978161e+00,  2.45398811e+00,  8.26978122e+00,\n",
       "        -2.07445107e+00, -9.70394629e-01, -1.04040750e+00,\n",
       "        -9.68770614e-01, -1.01857744e+00,  1.01857744e+00],\n",
       "       [-8.51384001e-01,  4.43384889e-01, -5.09977271e-02,\n",
       "        -1.27613516e-01,  9.99442431e-01, -2.41920984e-01,\n",
       "        -2.53104486e-02, -2.66935764e-01, -5.91766173e-01,\n",
       "        -1.71494581e-01, -1.01857744e+00,  1.01857744e+00],\n",
       "       [-1.56918879e+00,  4.43384889e-01,  2.24214145e+00,\n",
       "        -1.84998957e+00, -4.55103250e-01, -4.41414004e-01,\n",
       "         1.08122549e+00, -3.06905018e-01,  2.14730722e+00,\n",
       "        -4.16272310e-01,  9.81761387e-01, -9.81761387e-01],\n",
       "       [ 1.42166449e+00, -4.48858777e-01, -9.10924919e-01,\n",
       "         1.66100777e+00,  9.99442431e-01, -4.41414004e-01,\n",
       "         1.72773145e-01, -2.26966510e-01, -4.50089963e-01,\n",
       "        -3.32348517e-01,  9.81761387e-01, -9.81761387e-01],\n",
       "       [ 9.43127966e-01, -4.48858777e-01, -1.48420971e+00,\n",
       "         2.69857881e-01,  2.45398811e+00, -1.75423310e-01,\n",
       "        -6.33222167e-01, -3.30886570e-01, -6.86216980e-01,\n",
       "        -8.05771386e-02, -1.01857744e+00,  1.01857744e+00],\n",
       "       [ 8.23493835e-01,  4.43384889e-01,  1.38221426e+00,\n",
       "        -5.91330147e-01, -4.55103250e-01, -4.41414004e-01,\n",
       "         8.21667676e-01,  2.11523175e+00,  7.77770523e-01,\n",
       "         2.02451133e+00,  9.81761387e-01, -9.81761387e-01],\n",
       "       [ 7.03859704e-01, -1.34110244e+00, -5.09977271e-02,\n",
       "        -4.58839681e-01, -4.55103250e-01, -4.41414004e-01,\n",
       "         5.96262207e-01, -5.06751286e-01,  6.93894730e-02,\n",
       "        -5.84119896e-01,  9.81761387e-01, -9.81761387e-01],\n",
       "       [-1.44955466e+00, -4.48858777e-01, -5.09977271e-02,\n",
       "         9.32310211e-01,  1.72671527e+00,  2.40697100e-02,\n",
       "        -9.81576073e-01, -9.62400778e-01, -8.04280488e-01,\n",
       "        -9.47789665e-01, -1.01857744e+00,  1.01857744e+00],\n",
       "       [ 1.66093275e+00,  1.33562856e+00, -2.34413690e+00,\n",
       "        -5.25084914e-01,  9.99442431e-01, -3.74916331e-01,\n",
       "         1.52281739e-01, -8.26505316e-01, -7.09829682e-01,\n",
       "        -8.00923028e-01,  9.81761387e-01, -9.81761387e-01],\n",
       "       [-8.51384001e-01, -1.34110244e+00, -6.24282521e-01,\n",
       "         7.33574512e-01, -9.14668296e-02, -4.41414004e-01,\n",
       "         6.23584082e-01, -2.02984958e-01,  2.11065683e-01,\n",
       "        -2.13456477e-01, -1.01857744e+00,  1.01857744e+00],\n",
       "       [ 1.78056688e+00,  1.33562856e+00, -2.34413690e+00,\n",
       "         1.37367416e-01, -9.14668296e-02, -3.08418657e-01,\n",
       "        -6.94696386e-01, -8.66474569e-01, -8.27893190e-01,\n",
       "        -8.21903976e-01,  9.81761387e-01, -9.81761387e-01],\n",
       "       [-6.12115738e-01, -4.48858777e-01,  2.35644670e-01,\n",
       "         4.68593580e-01, -8.18739670e-01,  2.40697100e-02,\n",
       "        -7.42509667e-01, -6.90609853e-01, -8.51505892e-01,\n",
       "        -7.51967482e-01, -1.01857744e+00,  1.01857744e+00],\n",
       "       [ 1.42166449e+00,  4.43384889e-01,  2.35644670e-01,\n",
       "         1.32978161e+00,  2.09035169e+00, -4.41414004e-01,\n",
       "         5.07466114e-01,  2.58686895e+00, -7.22867370e-02,\n",
       "         2.98963495e+00, -1.01857744e+00,  1.01857744e+00],\n",
       "       [ 3.44957311e-01, -4.48858777e-01,  2.35644670e-01,\n",
       "         4.02348347e-01, -9.14668296e-02, -4.41414004e-01,\n",
       "         5.89431738e-01,  7.40289429e-01,  1.16614876e-01,\n",
       "         5.13883061e-01,  9.81761387e-01, -9.81761387e-01],\n",
       "       [ 4.64591442e-01,  1.33562856e+00, -9.10924919e-01,\n",
       "        -1.38627294e+00, -2.63692177e+00, -3.74916331e-01,\n",
       "         4.39161426e-01,  8.20227936e-01, -4.73702665e-01,\n",
       "         8.63565532e-01,  9.81761387e-01, -9.81761387e-01],\n",
       "       [ 9.43127966e-01, -1.34110244e+00,  2.35644670e-01,\n",
       "        -1.93858749e-01,  2.72169591e-01,  9.05673835e-02,\n",
       "        -2.23394042e-01, -6.10671346e-01, -7.33442383e-01,\n",
       "        -6.89024637e-01,  9.81761387e-01, -9.81761387e-01],\n",
       "       [ 1.30203036e+00,  4.43384889e-01,  2.35644670e-01,\n",
       "        -1.65125387e+00,  2.72169591e-01, -4.41414004e-01,\n",
       "         1.00609033e+00,  3.72998960e+00,  1.98201831e+00,\n",
       "         3.31833647e+00,  9.81761387e-01, -9.81761387e-01],\n",
       "       [-1.33579214e-01,  1.33562856e+00, -2.91742170e+00,\n",
       "         9.32310211e-01,  3.90853379e+00,  5.07789289e+00,\n",
       "        -2.05395967e+00, -1.08230854e+00, -1.01679480e+00,\n",
       "        -1.04570076e+00, -1.01857744e+00,  1.01857744e+00]])"
      ]
     },
     "execution_count": 87,
     "metadata": {},
     "output_type": "execute_result"
    }
   ],
   "source": [
    "X_test"
   ]
  },
  {
   "cell_type": "code",
   "execution_count": 88,
   "id": "fe03ac1a",
   "metadata": {},
   "outputs": [
    {
     "data": {
      "text/plain": [
       "(163, 12)"
      ]
     },
     "execution_count": 88,
     "metadata": {},
     "output_type": "execute_result"
    }
   ],
   "source": [
    "X_train.shape"
   ]
  },
  {
   "cell_type": "code",
   "execution_count": 89,
   "id": "8407e6ae",
   "metadata": {},
   "outputs": [
    {
     "data": {
      "text/plain": [
       "(81, 12)"
      ]
     },
     "execution_count": 89,
     "metadata": {},
     "output_type": "execute_result"
    }
   ],
   "source": [
    "X_test.shape"
   ]
  },
  {
   "cell_type": "markdown",
   "id": "ca590840",
   "metadata": {},
   "source": [
    "# Linear Regression"
   ]
  },
  {
   "cell_type": "code",
   "execution_count": 90,
   "id": "d1848255",
   "metadata": {},
   "outputs": [],
   "source": [
    "from sklearn.linear_model import LinearRegression"
   ]
  },
  {
   "cell_type": "code",
   "execution_count": 91,
   "id": "908b622c",
   "metadata": {},
   "outputs": [
    {
     "data": {
      "text/plain": [
       "LinearRegression()"
      ]
     },
     "execution_count": 91,
     "metadata": {},
     "output_type": "execute_result"
    }
   ],
   "source": [
    "regression = LinearRegression()\n",
    "regression"
   ]
  },
  {
   "cell_type": "code",
   "execution_count": 92,
   "id": "0731af97",
   "metadata": {},
   "outputs": [
    {
     "data": {
      "text/plain": [
       "LinearRegression()"
      ]
     },
     "execution_count": 92,
     "metadata": {},
     "output_type": "execute_result"
    }
   ],
   "source": [
    "regression.fit(X_train,y_train)"
   ]
  },
  {
   "cell_type": "code",
   "execution_count": 94,
   "id": "19a70348",
   "metadata": {},
   "outputs": [
    {
     "name": "stdout",
     "output_type": "stream",
     "text": [
      "[-1.61712413e-16  1.46082587e-15  3.48866745e+00 -4.53554365e-16\n",
      " -1.26830721e-15 -7.32383662e-17  4.54588763e-16  4.39762902e-15\n",
      "  3.24382608e-15 -3.77002781e-15 -6.14938608e-16 -7.17329021e-16]\n"
     ]
    }
   ],
   "source": [
    "print(regression.coef_)"
   ]
  },
  {
   "cell_type": "code",
   "execution_count": 95,
   "id": "0faab195",
   "metadata": {},
   "outputs": [
    {
     "name": "stdout",
     "output_type": "stream",
     "text": [
      "32.17791411042945\n"
     ]
    }
   ],
   "source": [
    "print(regression.intercept_)"
   ]
  },
  {
   "cell_type": "code",
   "execution_count": 96,
   "id": "d15da411",
   "metadata": {},
   "outputs": [
    {
     "data": {
      "text/plain": [
       "array([34., 35., 36., 35., 35., 36., 36., 35., 29., 32., 36., 30., 35.,\n",
       "       34., 35., 34., 35., 25., 38., 36., 31., 30., 34., 36., 39., 28.,\n",
       "       36., 32., 26., 31., 26., 29., 33., 34., 31., 28., 30., 31., 24.,\n",
       "       36., 35., 37., 31., 28., 40., 35., 28., 36., 36., 29., 30., 31.,\n",
       "       36., 31., 28., 31., 35., 37., 33., 29., 33., 32., 29., 26., 32.,\n",
       "       40., 29., 27., 37., 32., 32., 24., 30., 24., 33., 33., 33., 29.,\n",
       "       33., 33., 22.])"
      ]
     },
     "execution_count": 96,
     "metadata": {},
     "output_type": "execute_result"
    }
   ],
   "source": [
    "# prediction for testdata\n",
    "reg_prd = regression.predict(X_test)\n",
    "reg_prd"
   ]
  },
  {
   "cell_type": "markdown",
   "id": "a3215a86",
   "metadata": {},
   "source": [
    "# Assumption of Linear Regression"
   ]
  },
  {
   "cell_type": "code",
   "execution_count": 98,
   "id": "2788100b",
   "metadata": {},
   "outputs": [
    {
     "data": {
      "text/plain": [
       "Text(0, 0.5, 'Test Predict Data')"
      ]
     },
     "execution_count": 98,
     "metadata": {},
     "output_type": "execute_result"
    },
    {
     "data": {
      "image/png": "[encoded data removed]",
      "text/plain": [
       "<Figure size 432x288 with 1 Axes>"
      ]
     },
     "metadata": {
      "needs_background": "light"
     },
     "output_type": "display_data"
    }
   ],
   "source": [
    "# relation between real and pred data \n",
    "plt.scatter(y_test,reg_prd) # if you get linear manner it is good linear model\n",
    "plt.xlabel('Test Truth Data')\n",
    "plt.ylabel('Test Predict Data')"
   ]
  },
  {
   "cell_type": "code",
   "execution_count": 99,
   "id": "21956da8",
   "metadata": {},
   "outputs": [],
   "source": [
    "# The relation b/w test predicted data and test truth data are in the linear"
   ]
  },
  {
   "cell_type": "code",
   "execution_count": 100,
   "id": "96d6a6e4",
   "metadata": {},
   "outputs": [
    {
     "data": {
      "text/plain": [
       "162    0.000000e+00\n",
       "60     0.000000e+00\n",
       "61     0.000000e+00\n",
       "63     0.000000e+00\n",
       "69     0.000000e+00\n",
       "           ...     \n",
       "169    0.000000e+00\n",
       "232   -7.105427e-15\n",
       "144    7.105427e-15\n",
       "208   -1.421085e-14\n",
       "105    7.105427e-15\n",
       "Name: Temperature, Length: 81, dtype: float64"
      ]
     },
     "execution_count": 100,
     "metadata": {},
     "output_type": "execute_result"
    }
   ],
   "source": [
    "## calculate residual\n",
    "residual = y_test-reg_prd\n",
    "residual"
   ]
  },
  {
   "cell_type": "code",
   "execution_count": 101,
   "id": "cd0a1aaa",
   "metadata": {},
   "outputs": [
    {
     "data": {
      "text/plain": [
       "<seaborn.axisgrid.FacetGrid at 0x2729c291820>"
      ]
     },
     "execution_count": 101,
     "metadata": {},
     "output_type": "execute_result"
    },
    {
     "data": {
      "image/png": "[encoded data removed]",
      "text/plain": [
       "<Figure size 360x360 with 1 Axes>"
      ]
     },
     "metadata": {
      "needs_background": "light"
     },
     "output_type": "display_data"
    }
   ],
   "source": [
    "# distribution of residual are approxi normal fashion \n",
    "sns.displot(residual,kind='kde')    #little sked due to outliers"
   ]
  },
  {
   "cell_type": "code",
   "execution_count": 102,
   "id": "04bf7547",
   "metadata": {},
   "outputs": [
    {
     "data": {
      "text/plain": [
       "<matplotlib.collections.PathCollection at 0x2729d466f70>"
      ]
     },
     "execution_count": 102,
     "metadata": {},
     "output_type": "execute_result"
    },
    {
     "data": {
      "image/png": "[encoded data removed]",
      "text/plain": [
       "<Figure size 432x288 with 1 Axes>"
      ]
     },
     "metadata": {
      "needs_background": "light"
     },
     "output_type": "display_data"
    }
   ],
   "source": [
    "# Scatter plot with prediction and residuals\n",
    "#uniform distributin\n",
    "plt.scatter(reg_prd,residual)"
   ]
  },
  {
   "cell_type": "code",
   "execution_count": 103,
   "id": "5d2c5e30",
   "metadata": {},
   "outputs": [],
   "source": [
    "# Data b/w the reg_prd and residual are in random in nature"
   ]
  },
  {
   "cell_type": "markdown",
   "id": "005609b5",
   "metadata": {},
   "source": [
    "# performance Matrics"
   ]
  },
  {
   "cell_type": "code",
   "execution_count": 104,
   "id": "1212fdd9",
   "metadata": {},
   "outputs": [
    {
     "name": "stdout",
     "output_type": "stream",
     "text": [
      "1.7140681397394825e-29\n",
      "2.456197111269482e-15\n",
      "4.140130601490106e-15\n"
     ]
    }
   ],
   "source": [
    "from sklearn.metrics import mean_squared_error,mean_absolute_error\n",
    "print(mean_squared_error(y_test,reg_prd))\n",
    "print(mean_absolute_error(y_test,reg_prd))\n",
    "print(np.sqrt(mean_squared_error(y_test,reg_prd)))"
   ]
  },
  {
   "cell_type": "code",
   "execution_count": 105,
   "id": "b422e711",
   "metadata": {},
   "outputs": [
    {
     "name": "stdout",
     "output_type": "stream",
     "text": [
      "1.0\n"
     ]
    }
   ],
   "source": [
    "from sklearn.metrics import r2_score\n",
    "score = r2_score(y_test,reg_prd)\n",
    "print(score)"
   ]
  },
  {
   "cell_type": "code",
   "execution_count": 106,
   "id": "0aee7194",
   "metadata": {},
   "outputs": [
    {
     "name": "stdout",
     "output_type": "stream",
     "text": [
      "1.0\n"
     ]
    },
    {
     "data": {
      "text/plain": [
       "0.5441420406178656"
      ]
     },
     "execution_count": 106,
     "metadata": {},
     "output_type": "execute_result"
    }
   ],
   "source": [
    "## Adjusted R2 need to write\n",
    "# need to perform\n",
    "adjR = 1 - ( 1-score ) * ( len(y) - 1 ) / ( len(y) - X.shape[1] - 1 )\n",
    "print(adjR)\n",
    "0.5441420406178656"
   ]
  },
  {
   "cell_type": "markdown",
   "id": "a0f990d0",
   "metadata": {},
   "source": [
    "# Ridge Regression"
   ]
  },
  {
   "cell_type": "code",
   "execution_count": 107,
   "id": "c445e86f",
   "metadata": {},
   "outputs": [],
   "source": [
    "from sklearn.linear_model import Ridge\n",
    "ridge_reg = Ridge(alpha=0.1)"
   ]
  },
  {
   "cell_type": "code",
   "execution_count": 108,
   "id": "08400683",
   "metadata": {},
   "outputs": [
    {
     "data": {
      "text/plain": [
       "Ridge(alpha=0.1)"
      ]
     },
     "execution_count": 108,
     "metadata": {},
     "output_type": "execute_result"
    }
   ],
   "source": [
    "ridge_reg"
   ]
  },
  {
   "cell_type": "code",
   "execution_count": 109,
   "id": "aa96aaf7",
   "metadata": {},
   "outputs": [
    {
     "data": {
      "text/plain": [
       "Ridge(alpha=0.1)"
      ]
     },
     "execution_count": 109,
     "metadata": {},
     "output_type": "execute_result"
    }
   ],
   "source": [
    "ridge_reg.fit(X_train,y_train)"
   ]
  },
  {
   "cell_type": "code",
   "execution_count": 110,
   "id": "c8d3ff72",
   "metadata": {},
   "outputs": [
    {
     "name": "stdout",
     "output_type": "stream",
     "text": [
      "[-1.79002917e-04 -3.83211814e-04  3.48360093e+00 -1.69334938e-03\n",
      " -8.36795759e-04 -3.29067784e-04  1.51250775e-03 -1.63883143e-03\n",
      "  2.97933686e-04  2.28988961e-03  1.66093109e-04 -1.66093109e-04]\n"
     ]
    }
   ],
   "source": [
    "print(ridge_reg.coef_)"
   ]
  },
  {
   "cell_type": "code",
   "execution_count": 111,
   "id": "2abce171",
   "metadata": {},
   "outputs": [
    {
     "name": "stdout",
     "output_type": "stream",
     "text": [
      "32.17791411042945\n"
     ]
    }
   ],
   "source": [
    "print(ridge_reg.intercept_)"
   ]
  },
  {
   "cell_type": "code",
   "execution_count": 112,
   "id": "82a766f9",
   "metadata": {},
   "outputs": [
    {
     "data": {
      "text/plain": [
       "array([33.99712362, 34.99761415, 35.99600601, 34.99509246, 34.99684071,\n",
       "       35.99828257, 35.99649439, 34.99786216, 29.00428681, 32.00158122,\n",
       "       35.99659818, 29.99590111, 35.00028049, 33.99324376, 34.99594201,\n",
       "       33.99754811, 34.9994296 , 25.00340298, 37.99756301, 35.99792349,\n",
       "       31.00299203, 30.00579059, 33.99966155, 35.99592589, 38.99565516,\n",
       "       28.00209445, 35.99397003, 32.0004041 , 26.00127172, 31.00187377,\n",
       "       25.99896638, 28.99691006, 33.00181835, 33.99753799, 31.00302464,\n",
       "       28.00372162, 29.99858152, 31.00198297, 24.00460284, 35.99909446,\n",
       "       34.99644993, 36.99572044, 31.00500362, 28.00463342, 39.99486644,\n",
       "       34.99851378, 27.99449941, 35.99903124, 35.99732687, 29.00034114,\n",
       "       30.00193893, 31.00209503, 35.99964068, 31.00208359, 28.00264575,\n",
       "       30.99818993, 34.99682727, 36.99927608, 32.99766926, 29.00613473,\n",
       "       32.99896026, 32.00115472, 29.00346494, 25.99830485, 31.99919206,\n",
       "       39.99456089, 29.00109327, 27.00392743, 36.99717711, 32.00269094,\n",
       "       31.99500257, 24.01110912, 30.00332043, 24.00955815, 32.99666615,\n",
       "       32.99754013, 32.99967276, 29.01018009, 32.99841465, 33.00504094,\n",
       "       22.00340416])"
      ]
     },
     "execution_count": 112,
     "metadata": {},
     "output_type": "execute_result"
    }
   ],
   "source": [
    "rid_pred =ridge_reg.predict(X_test)\n",
    "rid_pred"
   ]
  },
  {
   "cell_type": "code",
   "execution_count": 113,
   "id": "c4579f29",
   "metadata": {},
   "outputs": [
    {
     "data": {
      "text/plain": [
       "Text(0, 0.5, 'Test Predict Data')"
      ]
     },
     "execution_count": 113,
     "metadata": {},
     "output_type": "execute_result"
    },
    {
     "data": {
      "image/png": "[encoded data removed]",
      "text/plain": [
       "<Figure size 432x288 with 1 Axes>"
      ]
     },
     "metadata": {
      "needs_background": "light"
     },
     "output_type": "display_data"
    }
   ],
   "source": [
    "# relation between real and pred data \n",
    "plt.scatter(y_test,rid_pred) # if you get linear manner it is good linear model\n",
    "plt.xlabel('Test Truth Data')\n",
    "plt.ylabel('Test Predict Data')"
   ]
  },
  {
   "cell_type": "code",
   "execution_count": 114,
   "id": "28fee5c7",
   "metadata": {},
   "outputs": [
    {
     "data": {
      "text/plain": [
       "162    0.002876\n",
       "60     0.002386\n",
       "61     0.003994\n",
       "63     0.004908\n",
       "69     0.003159\n",
       "         ...   \n",
       "169    0.000327\n",
       "232   -0.010180\n",
       "144    0.001585\n",
       "208   -0.005041\n",
       "105   -0.003404\n",
       "Name: Temperature, Length: 81, dtype: float64"
      ]
     },
     "execution_count": 114,
     "metadata": {},
     "output_type": "execute_result"
    }
   ],
   "source": [
    "## calculate residual\n",
    "residual = y_test-rid_pred\n",
    "residual"
   ]
  },
  {
   "cell_type": "code",
   "execution_count": 115,
   "id": "5eb23506",
   "metadata": {},
   "outputs": [
    {
     "data": {
      "text/plain": [
       "<seaborn.axisgrid.FacetGrid at 0x2729d46ac40>"
      ]
     },
     "execution_count": 115,
     "metadata": {},
     "output_type": "execute_result"
    },
    {
     "data": {
      "image/png": "[encoded data removed]",
      "text/plain": [
       "<Figure size 360x360 with 1 Axes>"
      ]
     },
     "metadata": {
      "needs_background": "light"
     },
     "output_type": "display_data"
    }
   ],
   "source": [
    "# distribution of residual are approxi normal fashion \n",
    "sns.displot(residual,kind='kde')    #little left-sked due to outliers"
   ]
  },
  {
   "cell_type": "code",
   "execution_count": 116,
   "id": "84070229",
   "metadata": {},
   "outputs": [
    {
     "data": {
      "text/plain": [
       "<matplotlib.collections.PathCollection at 0x2729e5a3a60>"
      ]
     },
     "execution_count": 116,
     "metadata": {},
     "output_type": "execute_result"
    },
    {
     "data": {
      "image/png": "[encoded data removed]",
      "text/plain": [
       "<Figure size 432x288 with 1 Axes>"
      ]
     },
     "metadata": {
      "needs_background": "light"
     },
     "output_type": "display_data"
    }
   ],
   "source": [
    "# Scatter plot with prediction and residuals\n",
    "#uniform distributin\n",
    "plt.scatter(rid_pred,residual)"
   ]
  },
  {
   "cell_type": "markdown",
   "id": "8686790e",
   "metadata": {},
   "source": [
    "# Performance Metric"
   ]
  },
  {
   "cell_type": "code",
   "execution_count": 117,
   "id": "68273ecd",
   "metadata": {},
   "outputs": [
    {
     "name": "stdout",
     "output_type": "stream",
     "text": [
      "1.3950541908077633e-05\n",
      "0.0030824427427230943\n",
      "0.003735042423865843\n"
     ]
    }
   ],
   "source": [
    "print(mean_squared_error(y_test,rid_pred))\n",
    "print(mean_absolute_error(y_test,rid_pred))\n",
    "print(np.sqrt(mean_squared_error(y_test,rid_pred)))"
   ]
  },
  {
   "cell_type": "code",
   "execution_count": 118,
   "id": "1d58cd4a",
   "metadata": {},
   "outputs": [
    {
     "name": "stdout",
     "output_type": "stream",
     "text": [
      "0.9999990774909244\n"
     ]
    }
   ],
   "source": [
    "score = r2_score(y_test,rid_pred)\n",
    "print(score)"
   ]
  },
  {
   "cell_type": "code",
   "execution_count": 119,
   "id": "1cd5c028",
   "metadata": {},
   "outputs": [
    {
     "name": "stdout",
     "output_type": "stream",
     "text": [
      "0.999999029568375\n"
     ]
    }
   ],
   "source": [
    "adjR = 1 - ( 1-score ) * ( len(y) - 1 ) / ( len(y) - X.shape[1] - 1 )\n",
    "print(adjR)"
   ]
  },
  {
   "cell_type": "markdown",
   "id": "189bf74c",
   "metadata": {},
   "source": [
    "# Lasso regerssion"
   ]
  },
  {
   "cell_type": "code",
   "execution_count": 120,
   "id": "7fdfd39a",
   "metadata": {},
   "outputs": [
    {
     "data": {
      "text/plain": [
       "Lasso(alpha=0.1)"
      ]
     },
     "execution_count": 120,
     "metadata": {},
     "output_type": "execute_result"
    }
   ],
   "source": [
    "# Lasso Regression\n",
    "from sklearn.linear_model import Lasso\n",
    "lasso = Lasso(alpha=0.1)\n",
    "lasso"
   ]
  },
  {
   "cell_type": "code",
   "execution_count": 121,
   "id": "b861d3fe",
   "metadata": {},
   "outputs": [
    {
     "data": {
      "text/plain": [
       "Lasso(alpha=0.1)"
      ]
     },
     "execution_count": 121,
     "metadata": {},
     "output_type": "execute_result"
    }
   ],
   "source": [
    "lasso.fit(X_train,y_train)"
   ]
  },
  {
   "cell_type": "code",
   "execution_count": 122,
   "id": "93b50121",
   "metadata": {},
   "outputs": [
    {
     "name": "stdout",
     "output_type": "stream",
     "text": [
      "[ 0.          0.          3.38866745 -0.         -0.         -0.\n",
      "  0.          0.          0.          0.          0.         -0.        ]\n"
     ]
    }
   ],
   "source": [
    "print(lasso.coef_)"
   ]
  },
  {
   "cell_type": "code",
   "execution_count": 123,
   "id": "90341aec",
   "metadata": {},
   "outputs": [
    {
     "name": "stdout",
     "output_type": "stream",
     "text": [
      "32.17791411042945\n"
     ]
    }
   ],
   "source": [
    "print(lasso.intercept_)"
   ]
  },
  {
   "cell_type": "code",
   "execution_count": 124,
   "id": "46b76b5f",
   "metadata": {},
   "outputs": [],
   "source": [
    "ls_prd = lasso.predict(X_test)"
   ]
  },
  {
   "cell_type": "code",
   "execution_count": 125,
   "id": "acedd5e1",
   "metadata": {},
   "outputs": [
    {
     "data": {
      "text/plain": [
       "Text(0, 0.5, 'Test Predict Data')"
      ]
     },
     "execution_count": 125,
     "metadata": {},
     "output_type": "execute_result"
    },
    {
     "data": {
      "image/png": "[encoded data removed]",
      "text/plain": [
       "<Figure size 432x288 with 1 Axes>"
      ]
     },
     "metadata": {
      "needs_background": "light"
     },
     "output_type": "display_data"
    }
   ],
   "source": [
    "# relation between real and pred data \n",
    "plt.scatter(y_test,ls_prd) # if you get linear manner it is good linear model\n",
    "plt.xlabel('Test Truth Data')\n",
    "plt.ylabel('Test Predict Data')"
   ]
  },
  {
   "cell_type": "code",
   "execution_count": 126,
   "id": "46af4533",
   "metadata": {},
   "outputs": [
    {
     "data": {
      "text/plain": [
       "162    0.052229\n",
       "60     0.080893\n",
       "61     0.109557\n",
       "63     0.080893\n",
       "69     0.080893\n",
       "         ...   \n",
       "169    0.023564\n",
       "232   -0.091092\n",
       "144    0.023564\n",
       "208    0.023564\n",
       "105   -0.291742\n",
       "Name: Temperature, Length: 81, dtype: float64"
      ]
     },
     "execution_count": 126,
     "metadata": {},
     "output_type": "execute_result"
    }
   ],
   "source": [
    "## calculate residual\n",
    "residual = y_test-ls_prd\n",
    "residual"
   ]
  },
  {
   "cell_type": "code",
   "execution_count": 127,
   "id": "e6264c12",
   "metadata": {},
   "outputs": [
    {
     "data": {
      "text/plain": [
       "<seaborn.axisgrid.FacetGrid at 0x2729e573880>"
      ]
     },
     "execution_count": 127,
     "metadata": {},
     "output_type": "execute_result"
    },
    {
     "data": {
      "image/png": "[encoded data removed]",
      "text/plain": [
       "<Figure size 360x360 with 1 Axes>"
      ]
     },
     "metadata": {
      "needs_background": "light"
     },
     "output_type": "display_data"
    }
   ],
   "source": [
    "# distribution of residual are approxi normal fashion \n",
    "sns.displot(residual,kind='kde') "
   ]
  },
  {
   "cell_type": "code",
   "execution_count": 131,
   "id": "6adf6703",
   "metadata": {},
   "outputs": [
    {
     "data": {
      "text/plain": [
       "<matplotlib.collections.PathCollection at 0x2729e6f52b0>"
      ]
     },
     "execution_count": 131,
     "metadata": {},
     "output_type": "execute_result"
    },
    {
     "data": {
      "image/png": "[encoded data removed]",
      "text/plain": [
       "<Figure size 432x288 with 1 Axes>"
      ]
     },
     "metadata": {
      "needs_background": "light"
     },
     "output_type": "display_data"
    }
   ],
   "source": [
    "#Scatterplot with prediction and residuals\n",
    "#uniform distributin\n",
    "plt.scatter(ls_prd,residual)"
   ]
  },
  {
   "cell_type": "markdown",
   "id": "7a274713",
   "metadata": {},
   "source": [
    "#  performance Metirc"
   ]
  },
  {
   "cell_type": "code",
   "execution_count": 132,
   "id": "96c4e2af",
   "metadata": {},
   "outputs": [
    {
     "name": "stdout",
     "output_type": "stream",
     "text": [
      "0.012425389172212573\n",
      "0.09159183103788726\n",
      "0.11146922971032218\n"
     ]
    }
   ],
   "source": [
    "print(mean_squared_error(y_test,ls_prd))\n",
    "print(mean_absolute_error(y_test,ls_prd))\n",
    "print(np.sqrt(mean_squared_error(y_test,ls_prd)))"
   ]
  },
  {
   "cell_type": "code",
   "execution_count": 133,
   "id": "a2295662",
   "metadata": {},
   "outputs": [
    {
     "name": "stdout",
     "output_type": "stream",
     "text": [
      "0.9991783448733205\n"
     ]
    }
   ],
   "source": [
    "score = r2_score(y_test,ls_prd)\n",
    "print(score)"
   ]
  },
  {
   "cell_type": "code",
   "execution_count": 134,
   "id": "d46ccc20",
   "metadata": {},
   "outputs": [
    {
     "name": "stdout",
     "output_type": "stream",
     "text": [
      "0.9991356614901163\n"
     ]
    }
   ],
   "source": [
    "adjR = 1 - ( 1-score ) * ( len(y) - 1 ) / ( len(y) - X.shape[1] - 1 )\n",
    "print(adjR)"
   ]
  },
  {
   "cell_type": "markdown",
   "id": "1683989b",
   "metadata": {},
   "source": [
    "# Elastic Net"
   ]
  },
  {
   "cell_type": "code",
   "execution_count": 135,
   "id": "bc2ac3cc",
   "metadata": {},
   "outputs": [
    {
     "data": {
      "text/plain": [
       "ElasticNet(random_state=0)"
      ]
     },
     "execution_count": 135,
     "metadata": {},
     "output_type": "execute_result"
    }
   ],
   "source": [
    "from sklearn.linear_model import ElasticNet\n",
    "el_reg = ElasticNet(random_state=0)\n",
    "el_reg"
   ]
  },
  {
   "cell_type": "code",
   "execution_count": 136,
   "id": "2ec9a40c",
   "metadata": {},
   "outputs": [
    {
     "data": {
      "text/plain": [
       "ElasticNet(random_state=0)"
      ]
     },
     "execution_count": 136,
     "metadata": {},
     "output_type": "execute_result"
    }
   ],
   "source": [
    "el_reg.fit(X_train,y_train)"
   ]
  },
  {
   "cell_type": "code",
   "execution_count": 137,
   "id": "63e715a0",
   "metadata": {},
   "outputs": [
    {
     "name": "stdout",
     "output_type": "stream",
     "text": [
      "[ 0.          0.          1.69313456 -0.278179   -0.         -0.\n",
      "  0.31099458  0.          0.09384768  0.          0.         -0.        ]\n"
     ]
    }
   ],
   "source": [
    "print(el_reg.coef_)"
   ]
  },
  {
   "cell_type": "code",
   "execution_count": 138,
   "id": "287aa3fa",
   "metadata": {},
   "outputs": [
    {
     "name": "stdout",
     "output_type": "stream",
     "text": [
      "32.17791411042945\n"
     ]
    }
   ],
   "source": [
    "print(el_reg.intercept_)"
   ]
  },
  {
   "cell_type": "code",
   "execution_count": 139,
   "id": "7c5f6d3a",
   "metadata": {},
   "outputs": [
    {
     "data": {
      "text/plain": [
       "array([33.04586716, 33.7624045 , 34.31305735, 33.44264737, 33.86100914,\n",
       "       34.5790704 , 34.5638337 , 33.72556027, 30.56664901, 32.29401964,\n",
       "       34.46228893, 30.36025098, 34.35412409, 32.5373541 , 33.85773788,\n",
       "       33.10999733, 33.79034458, 27.608486  , 36.0902134 , 34.62290748,\n",
       "       31.68327751, 31.53476437, 33.57120894, 34.30176215, 36.64350934,\n",
       "       29.32856607, 34.06567615, 32.30285759, 28.11015181, 31.45991518,\n",
       "       28.11943064, 29.24932139, 32.98841493, 33.20422576, 31.78611074,\n",
       "       29.95282332, 30.32814999, 31.70863874, 27.04732548, 34.65053252,\n",
       "       33.75637894, 34.97675407, 32.44500455, 29.97865526, 36.77466538,\n",
       "       33.97766484, 29.19578427, 34.71113219, 34.48053345, 29.93996431,\n",
       "       30.85301662, 31.66040754, 34.82383875, 31.58611693, 29.87338276,\n",
       "       31.20079781, 33.55239779, 35.4517782 , 32.38906201, 31.20758737,\n",
       "       32.56148244, 32.10124236, 30.29288944, 28.06692303, 32.0636602 ,\n",
       "       37.02656459, 30.18502978, 29.32855002, 35.01121062, 32.41115401,\n",
       "       31.45147429, 28.33578542, 31.13059407, 27.87701951, 32.13571102,\n",
       "       32.3580102 , 32.65922149, 31.11334859, 32.49251348, 33.53513284,\n",
       "       26.24478334])"
      ]
     },
     "execution_count": 139,
     "metadata": {},
     "output_type": "execute_result"
    }
   ],
   "source": [
    "el_prd = el_reg.predict(X_test)\n",
    "el_prd"
   ]
  },
  {
   "cell_type": "code",
   "execution_count": 140,
   "id": "d834dd93",
   "metadata": {},
   "outputs": [
    {
     "data": {
      "text/plain": [
       "Text(0, 0.5, 'Test Predict Data')"
      ]
     },
     "execution_count": 140,
     "metadata": {},
     "output_type": "execute_result"
    },
    {
     "data": {
      "image/png": "[encoded data removed]",
      "text/plain": [
       "<Figure size 432x288 with 1 Axes>"
      ]
     },
     "metadata": {
      "needs_background": "light"
     },
     "output_type": "display_data"
    }
   ],
   "source": [
    "# relation between real and pred data \n",
    "plt.scatter(y_test,el_prd) # if you get linear manner it is good linear model\n",
    "plt.xlabel('Test Truth Data')\n",
    "plt.ylabel('Test Predict Data')"
   ]
  },
  {
   "cell_type": "code",
   "execution_count": 141,
   "id": "6dcd7f07",
   "metadata": {},
   "outputs": [
    {
     "data": {
      "text/plain": [
       "162    0.954133\n",
       "60     1.237595\n",
       "61     1.686943\n",
       "63     1.557353\n",
       "69     1.138991\n",
       "         ...   \n",
       "169    0.340779\n",
       "232   -2.113349\n",
       "144    0.507487\n",
       "208   -0.535133\n",
       "105   -4.244783\n",
       "Name: Temperature, Length: 81, dtype: float64"
      ]
     },
     "execution_count": 141,
     "metadata": {},
     "output_type": "execute_result"
    }
   ],
   "source": [
    "## calculate residual\n",
    "residual = y_test-el_prd\n",
    "residual"
   ]
  },
  {
   "cell_type": "code",
   "execution_count": 142,
   "id": "d186a228",
   "metadata": {},
   "outputs": [
    {
     "data": {
      "text/plain": [
       "<seaborn.axisgrid.FacetGrid at 0x2729e921280>"
      ]
     },
     "execution_count": 142,
     "metadata": {},
     "output_type": "execute_result"
    },
    {
     "data": {
      "image/png": "[encoded data removed]",
      "text/plain": [
       "<Figure size 360x360 with 1 Axes>"
      ]
     },
     "metadata": {
      "needs_background": "light"
     },
     "output_type": "display_data"
    }
   ],
   "source": [
    "# distribution of residual are approxi normal fashion \n",
    "sns.displot(residual,kind='kde')"
   ]
  },
  {
   "cell_type": "code",
   "execution_count": 143,
   "id": "5902c70b",
   "metadata": {},
   "outputs": [
    {
     "data": {
      "text/plain": [
       "<matplotlib.collections.PathCollection at 0x272a05d14c0>"
      ]
     },
     "execution_count": 143,
     "metadata": {},
     "output_type": "execute_result"
    },
    {
     "data": {
      "image/png": "[encoded data removed]",
      "text/plain": [
       "<Figure size 432x288 with 1 Axes>"
      ]
     },
     "metadata": {
      "needs_background": "light"
     },
     "output_type": "display_data"
    }
   ],
   "source": [
    "# Scatter plot with prediction and residuals\n",
    "#uniform distributin\n",
    "plt.scatter(el_prd,residual)"
   ]
  },
  {
   "cell_type": "markdown",
   "id": "702793cb",
   "metadata": {},
   "source": [
    "# performance Metrics"
   ]
  },
  {
   "cell_type": "code",
   "execution_count": 144,
   "id": "b28b89e3",
   "metadata": {},
   "outputs": [
    {
     "name": "stdout",
     "output_type": "stream",
     "text": [
      "2.6230598317246563\n",
      "1.34485712693691\n",
      "1.6195863149967205\n"
     ]
    }
   ],
   "source": [
    "print(mean_squared_error(y_test,el_prd))\n",
    "print(mean_absolute_error(y_test,el_prd))\n",
    "print(np.sqrt(mean_squared_error(y_test,el_prd)))"
   ]
  },
  {
   "cell_type": "code",
   "execution_count": 145,
   "id": "e63a40c7",
   "metadata": {},
   "outputs": [
    {
     "name": "stdout",
     "output_type": "stream",
     "text": [
      "0.8265446233954981\n"
     ]
    }
   ],
   "source": [
    "score = r2_score(y_test,el_prd)\n",
    "print(score)"
   ]
  },
  {
   "cell_type": "code",
   "execution_count": 146,
   "id": "08eb3a56",
   "metadata": {},
   "outputs": [
    {
     "name": "stdout",
     "output_type": "stream",
     "text": [
      "0.8175339544809785\n"
     ]
    }
   ],
   "source": [
    "adjR = 1 - ( 1-score ) * ( len(y) - 1 ) / ( len(y) - X.shape[1] - 1 )\n",
    "print(adjR)"
   ]
  },
  {
   "cell_type": "code",
   "execution_count": null,
   "id": "1dd3ab5c",
   "metadata": {},
   "outputs": [],
   "source": []
  }
 ],
 "metadata": {
  "kernelspec": {
   "display_name": "Python 3 (ipykernel)",
   "language": "python",
   "name": "python3"
  },
  "language_info": {
   "codemirror_mode": {
    "name": "ipython",
    "version": 3
   },
   "file_extension": ".py",
   "mimetype": "text/x-python",
   "name": "python",
   "nbconvert_exporter": "python",
   "pygments_lexer": "ipython3",
   "version": "3.9.12"
  }
 },
 "nbformat": 4,
 "nbformat_minor": 5
}
